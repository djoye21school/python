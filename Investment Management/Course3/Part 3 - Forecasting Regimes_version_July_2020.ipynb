{
 "cells": [
  {
   "cell_type": "markdown",
   "metadata": {},
   "source": [
    "# Module 5: Regime Prediction with Machine Learning - Part 3\n",
    "\n",
    "In this part we are going to predict economic regimes with machine learning algorithms using Pyhton's Scikit Learn package.\n",
    "\n",
    "## Table of Contents:\n",
    "&nbsp;&nbsp;1. [Set Up Environment and Read Data](#1)\n",
    "   \n",
    "&nbsp;&nbsp;2. [Methodology](#2)   \n",
    "\n",
    "&nbsp;&nbsp;3. [Feature Selection](#3)   \n",
    "\n",
    "&nbsp;&nbsp;4. [Traning Algorithms on Training Dataset](#4)\n",
    "\n",
    "&nbsp;&nbsp;5. [Evaluate Performances of the Algorithms on Validation Dataset](#5)"
   ]
  },
  {
   "cell_type": "markdown",
   "metadata": {},
   "source": [
    "## 1. Set Up Environment and Read Data <a id=\"1\"></a>"
   ]
  },
  {
   "cell_type": "code",
   "execution_count": 1,
   "metadata": {},
   "outputs": [],
   "source": [
    "# if xgboost is not installed you can run this command in the cell\n",
    "#!pip install xgboost\n",
    "\n",
    "#load libraries\n",
    "import pandas as pd\n",
    "import numpy as np\n",
    "import matplotlib.pyplot as plt \n",
    "from sklearn import metrics\n",
    "\n",
    "from sklearn.metrics import classification_report\n",
    "from sklearn.metrics import confusion_matrix\n",
    "from sklearn.metrics import f1_score\n",
    "from sklearn.metrics import roc_auc_score, roc_curve, auc\n",
    "from sklearn import model_selection\n",
    "from sklearn import preprocessing\n",
    "from sklearn.model_selection import TimeSeriesSplit\n",
    "from sklearn.feature_selection import SelectFromModel\n",
    "\n",
    "from sklearn.linear_model import LogisticRegression\n",
    "from sklearn.discriminant_analysis import LinearDiscriminantAnalysis\n",
    "from sklearn.neighbors import KNeighborsClassifier\n",
    "from sklearn.svm import SVC\n",
    "from sklearn.ensemble import GradientBoostingClassifier\n",
    "from sklearn.ensemble import AdaBoostClassifier\n",
    "from sklearn.ensemble import RandomForestClassifier\n",
    "from sklearn.tree import DecisionTreeClassifier\n",
    "import xgboost as xgb\n",
    "\n",
    "from matplotlib import pyplot as mp\n",
    "import seaborn as sns\n",
    "import os\n",
    "import warnings\n",
    "warnings.filterwarnings('ignore')"
   ]
  },
  {
   "cell_type": "code",
   "execution_count": 2,
   "metadata": {},
   "outputs": [
    {
     "data": {
      "text/html": [
       "<div>\n",
       "<style scoped>\n",
       "    .dataframe tbody tr th:only-of-type {\n",
       "        vertical-align: middle;\n",
       "    }\n",
       "\n",
       "    .dataframe tbody tr th {\n",
       "        vertical-align: top;\n",
       "    }\n",
       "\n",
       "    .dataframe thead th {\n",
       "        text-align: right;\n",
       "    }\n",
       "</style>\n",
       "<table border=\"1\" class=\"dataframe\">\n",
       "  <thead>\n",
       "    <tr style=\"text-align: right;\">\n",
       "      <th></th>\n",
       "      <th>Date</th>\n",
       "      <th>Regime</th>\n",
       "      <th>Label</th>\n",
       "      <th>RPI</th>\n",
       "      <th>W875RX1</th>\n",
       "      <th>DPCERA3M086SBEA</th>\n",
       "      <th>CMRMTSPLx</th>\n",
       "      <th>RETAILx</th>\n",
       "      <th>INDPRO</th>\n",
       "      <th>IPFPNSS</th>\n",
       "      <th>...</th>\n",
       "      <th>DTCTHFNM 3M lag</th>\n",
       "      <th>DTCTHFNM 6M lag</th>\n",
       "      <th>DTCTHFNM 9M lag</th>\n",
       "      <th>DTCTHFNM 12M lag</th>\n",
       "      <th>DTCTHFNM 18M lag</th>\n",
       "      <th>INVEST 3M lag</th>\n",
       "      <th>INVEST 6M lag</th>\n",
       "      <th>INVEST 9M lag</th>\n",
       "      <th>INVEST 12M lag</th>\n",
       "      <th>INVEST 18M lag</th>\n",
       "    </tr>\n",
       "  </thead>\n",
       "  <tbody>\n",
       "    <tr>\n",
       "      <th>0</th>\n",
       "      <td>9/1/60</td>\n",
       "      <td>Recession</td>\n",
       "      <td>0.0</td>\n",
       "      <td>-0.276810</td>\n",
       "      <td>-0.294262</td>\n",
       "      <td>-0.211613</td>\n",
       "      <td>0.402710</td>\n",
       "      <td>-0.323584</td>\n",
       "      <td>-0.762267</td>\n",
       "      <td>-0.630442</td>\n",
       "      <td>...</td>\n",
       "      <td>-0.077065</td>\n",
       "      <td>-0.094297</td>\n",
       "      <td>-0.087203</td>\n",
       "      <td>-0.085836</td>\n",
       "      <td>-0.099892</td>\n",
       "      <td>-0.452045</td>\n",
       "      <td>-0.578023</td>\n",
       "      <td>-0.391601</td>\n",
       "      <td>-0.449917</td>\n",
       "      <td>-0.088994</td>\n",
       "    </tr>\n",
       "    <tr>\n",
       "      <th>1</th>\n",
       "      <td>10/1/60</td>\n",
       "      <td>Recession</td>\n",
       "      <td>0.0</td>\n",
       "      <td>-0.203601</td>\n",
       "      <td>-0.160845</td>\n",
       "      <td>-0.204020</td>\n",
       "      <td>-0.975782</td>\n",
       "      <td>-0.241283</td>\n",
       "      <td>-0.306155</td>\n",
       "      <td>0.061353</td>\n",
       "      <td>...</td>\n",
       "      <td>-0.081533</td>\n",
       "      <td>-0.086449</td>\n",
       "      <td>-0.103495</td>\n",
       "      <td>-0.089710</td>\n",
       "      <td>-0.091542</td>\n",
       "      <td>-0.252544</td>\n",
       "      <td>-0.425730</td>\n",
       "      <td>-0.480063</td>\n",
       "      <td>-0.472408</td>\n",
       "      <td>0.146848</td>\n",
       "    </tr>\n",
       "    <tr>\n",
       "      <th>2</th>\n",
       "      <td>11/1/60</td>\n",
       "      <td>Normal</td>\n",
       "      <td>1.0</td>\n",
       "      <td>-0.518930</td>\n",
       "      <td>-0.576563</td>\n",
       "      <td>-0.784864</td>\n",
       "      <td>-0.609464</td>\n",
       "      <td>-0.437503</td>\n",
       "      <td>-0.933386</td>\n",
       "      <td>-0.745608</td>\n",
       "      <td>...</td>\n",
       "      <td>-0.084711</td>\n",
       "      <td>-0.089231</td>\n",
       "      <td>-0.095945</td>\n",
       "      <td>-0.095870</td>\n",
       "      <td>-0.088859</td>\n",
       "      <td>-0.402260</td>\n",
       "      <td>-0.402062</td>\n",
       "      <td>-0.602128</td>\n",
       "      <td>-0.443997</td>\n",
       "      <td>-0.091635</td>\n",
       "    </tr>\n",
       "    <tr>\n",
       "      <th>3</th>\n",
       "      <td>12/1/60</td>\n",
       "      <td>Normal</td>\n",
       "      <td>1.0</td>\n",
       "      <td>-0.530050</td>\n",
       "      <td>-0.580431</td>\n",
       "      <td>-1.396079</td>\n",
       "      <td>0.072906</td>\n",
       "      <td>-0.377056</td>\n",
       "      <td>-1.161544</td>\n",
       "      <td>-0.918657</td>\n",
       "      <td>...</td>\n",
       "      <td>-0.095236</td>\n",
       "      <td>-0.078204</td>\n",
       "      <td>-0.094554</td>\n",
       "      <td>-0.087525</td>\n",
       "      <td>-0.077130</td>\n",
       "      <td>-0.329216</td>\n",
       "      <td>-0.464184</td>\n",
       "      <td>-0.575146</td>\n",
       "      <td>-0.388382</td>\n",
       "      <td>-0.070571</td>\n",
       "    </tr>\n",
       "    <tr>\n",
       "      <th>4</th>\n",
       "      <td>1/1/61</td>\n",
       "      <td>Normal</td>\n",
       "      <td>1.0</td>\n",
       "      <td>0.055048</td>\n",
       "      <td>0.096320</td>\n",
       "      <td>-0.374857</td>\n",
       "      <td>-1.605572</td>\n",
       "      <td>-0.309170</td>\n",
       "      <td>-0.192076</td>\n",
       "      <td>-0.284344</td>\n",
       "      <td>...</td>\n",
       "      <td>-0.103179</td>\n",
       "      <td>-0.082674</td>\n",
       "      <td>-0.086706</td>\n",
       "      <td>-0.103818</td>\n",
       "      <td>-0.077826</td>\n",
       "      <td>-0.247744</td>\n",
       "      <td>-0.262595</td>\n",
       "      <td>-0.422179</td>\n",
       "      <td>-0.476824</td>\n",
       "      <td>0.166953</td>\n",
       "    </tr>\n",
       "  </tbody>\n",
       "</table>\n",
       "<p>5 rows × 711 columns</p>\n",
       "</div>"
      ],
      "text/plain": [
       "      Date     Regime  Label       RPI   W875RX1  DPCERA3M086SBEA  CMRMTSPLx  \\\n",
       "0   9/1/60  Recession    0.0 -0.276810 -0.294262        -0.211613   0.402710   \n",
       "1  10/1/60  Recession    0.0 -0.203601 -0.160845        -0.204020  -0.975782   \n",
       "2  11/1/60     Normal    1.0 -0.518930 -0.576563        -0.784864  -0.609464   \n",
       "3  12/1/60     Normal    1.0 -0.530050 -0.580431        -1.396079   0.072906   \n",
       "4   1/1/61     Normal    1.0  0.055048  0.096320        -0.374857  -1.605572   \n",
       "\n",
       "    RETAILx    INDPRO   IPFPNSS  ...  DTCTHFNM 3M lag  DTCTHFNM 6M lag  \\\n",
       "0 -0.323584 -0.762267 -0.630442  ...        -0.077065        -0.094297   \n",
       "1 -0.241283 -0.306155  0.061353  ...        -0.081533        -0.086449   \n",
       "2 -0.437503 -0.933386 -0.745608  ...        -0.084711        -0.089231   \n",
       "3 -0.377056 -1.161544 -0.918657  ...        -0.095236        -0.078204   \n",
       "4 -0.309170 -0.192076 -0.284344  ...        -0.103179        -0.082674   \n",
       "\n",
       "   DTCTHFNM 9M lag  DTCTHFNM 12M lag  DTCTHFNM 18M lag  INVEST 3M lag  \\\n",
       "0        -0.087203         -0.085836         -0.099892      -0.452045   \n",
       "1        -0.103495         -0.089710         -0.091542      -0.252544   \n",
       "2        -0.095945         -0.095870         -0.088859      -0.402260   \n",
       "3        -0.094554         -0.087525         -0.077130      -0.329216   \n",
       "4        -0.086706         -0.103818         -0.077826      -0.247744   \n",
       "\n",
       "   INVEST 6M lag  INVEST 9M lag  INVEST 12M lag  INVEST 18M lag  \n",
       "0      -0.578023      -0.391601       -0.449917       -0.088994  \n",
       "1      -0.425730      -0.480063       -0.472408        0.146848  \n",
       "2      -0.402062      -0.602128       -0.443997       -0.091635  \n",
       "3      -0.464184      -0.575146       -0.388382       -0.070571  \n",
       "4      -0.262595      -0.422179       -0.476824        0.166953  \n",
       "\n",
       "[5 rows x 711 columns]"
      ]
     },
     "execution_count": 2,
     "metadata": {},
     "output_type": "execute_result"
    }
   ],
   "source": [
    "df=pd.read_csv('Dataset_Cleaned.csv')\n",
    "\n",
    "Label = df[\"Regime\"].apply(lambda regime: 1. if regime == 'Normal' else 0.)\n",
    "df.insert(loc=2, column=\"Label\", value=Label.values)\n",
    "df.head()\n"
   ]
  },
  {
   "cell_type": "code",
   "execution_count": 3,
   "metadata": {},
   "outputs": [
    {
     "data": {
      "text/html": [
       "<div>\n",
       "<style scoped>\n",
       "    .dataframe tbody tr th:only-of-type {\n",
       "        vertical-align: middle;\n",
       "    }\n",
       "\n",
       "    .dataframe tbody tr th {\n",
       "        vertical-align: top;\n",
       "    }\n",
       "\n",
       "    .dataframe thead th {\n",
       "        text-align: right;\n",
       "    }\n",
       "</style>\n",
       "<table border=\"1\" class=\"dataframe\">\n",
       "  <thead>\n",
       "    <tr style=\"text-align: right;\">\n",
       "      <th></th>\n",
       "      <th>Date</th>\n",
       "      <th>Regime</th>\n",
       "      <th>Label</th>\n",
       "      <th>RPI</th>\n",
       "      <th>W875RX1</th>\n",
       "      <th>DPCERA3M086SBEA</th>\n",
       "      <th>CMRMTSPLx</th>\n",
       "      <th>RETAILx</th>\n",
       "      <th>INDPRO</th>\n",
       "      <th>IPFPNSS</th>\n",
       "      <th>...</th>\n",
       "      <th>DTCTHFNM 3M lag</th>\n",
       "      <th>DTCTHFNM 6M lag</th>\n",
       "      <th>DTCTHFNM 9M lag</th>\n",
       "      <th>DTCTHFNM 12M lag</th>\n",
       "      <th>DTCTHFNM 18M lag</th>\n",
       "      <th>INVEST 3M lag</th>\n",
       "      <th>INVEST 6M lag</th>\n",
       "      <th>INVEST 9M lag</th>\n",
       "      <th>INVEST 12M lag</th>\n",
       "      <th>INVEST 18M lag</th>\n",
       "    </tr>\n",
       "  </thead>\n",
       "  <tbody>\n",
       "    <tr>\n",
       "      <th>690</th>\n",
       "      <td>3/1/18</td>\n",
       "      <td>Normal</td>\n",
       "      <td>1.0</td>\n",
       "      <td>0.606516</td>\n",
       "      <td>0.527506</td>\n",
       "      <td>1.940925</td>\n",
       "      <td>0.766276</td>\n",
       "      <td>1.274550</td>\n",
       "      <td>0.846787</td>\n",
       "      <td>0.299897</td>\n",
       "      <td>...</td>\n",
       "      <td>-0.179476</td>\n",
       "      <td>-0.133584</td>\n",
       "      <td>0.235757</td>\n",
       "      <td>-0.086180</td>\n",
       "      <td>0.141696</td>\n",
       "      <td>2.230249</td>\n",
       "      <td>0.273284</td>\n",
       "      <td>-1.002908</td>\n",
       "      <td>0.770301</td>\n",
       "      <td>0.895384</td>\n",
       "    </tr>\n",
       "    <tr>\n",
       "      <th>691</th>\n",
       "      <td>4/1/18</td>\n",
       "      <td>Normal</td>\n",
       "      <td>1.0</td>\n",
       "      <td>-0.502149</td>\n",
       "      <td>-0.636504</td>\n",
       "      <td>0.817201</td>\n",
       "      <td>-0.046217</td>\n",
       "      <td>0.446035</td>\n",
       "      <td>2.249922</td>\n",
       "      <td>2.407931</td>\n",
       "      <td>...</td>\n",
       "      <td>-0.311433</td>\n",
       "      <td>-0.143804</td>\n",
       "      <td>-0.120572</td>\n",
       "      <td>-0.448552</td>\n",
       "      <td>-0.232925</td>\n",
       "      <td>-0.915205</td>\n",
       "      <td>0.479636</td>\n",
       "      <td>-0.258883</td>\n",
       "      <td>-0.004332</td>\n",
       "      <td>-0.588605</td>\n",
       "    </tr>\n",
       "    <tr>\n",
       "      <th>692</th>\n",
       "      <td>5/1/18</td>\n",
       "      <td>Normal</td>\n",
       "      <td>1.0</td>\n",
       "      <td>-0.157972</td>\n",
       "      <td>-0.087370</td>\n",
       "      <td>0.961463</td>\n",
       "      <td>0.430122</td>\n",
       "      <td>2.454556</td>\n",
       "      <td>-2.070060</td>\n",
       "      <td>-3.892538</td>\n",
       "      <td>...</td>\n",
       "      <td>-0.482148</td>\n",
       "      <td>0.033541</td>\n",
       "      <td>-0.213760</td>\n",
       "      <td>0.107234</td>\n",
       "      <td>-0.231100</td>\n",
       "      <td>-2.973997</td>\n",
       "      <td>0.961822</td>\n",
       "      <td>0.034543</td>\n",
       "      <td>0.230030</td>\n",
       "      <td>-2.080086</td>\n",
       "    </tr>\n",
       "    <tr>\n",
       "      <th>693</th>\n",
       "      <td>6/1/18</td>\n",
       "      <td>Normal</td>\n",
       "      <td>1.0</td>\n",
       "      <td>0.349574</td>\n",
       "      <td>0.372821</td>\n",
       "      <td>0.885536</td>\n",
       "      <td>0.064680</td>\n",
       "      <td>0.228146</td>\n",
       "      <td>1.122719</td>\n",
       "      <td>1.232840</td>\n",
       "      <td>...</td>\n",
       "      <td>-0.658221</td>\n",
       "      <td>-0.180663</td>\n",
       "      <td>-0.133844</td>\n",
       "      <td>0.235449</td>\n",
       "      <td>-0.198484</td>\n",
       "      <td>-1.760285</td>\n",
       "      <td>2.246193</td>\n",
       "      <td>0.279925</td>\n",
       "      <td>-0.999553</td>\n",
       "      <td>-0.344927</td>\n",
       "    </tr>\n",
       "    <tr>\n",
       "      <th>694</th>\n",
       "      <td>7/1/18</td>\n",
       "      <td>Normal</td>\n",
       "      <td>1.0</td>\n",
       "      <td>0.226072</td>\n",
       "      <td>0.198799</td>\n",
       "      <td>0.953870</td>\n",
       "      <td>0.152546</td>\n",
       "      <td>1.057109</td>\n",
       "      <td>0.678551</td>\n",
       "      <td>-0.049807</td>\n",
       "      <td>...</td>\n",
       "      <td>0.108100</td>\n",
       "      <td>-0.312682</td>\n",
       "      <td>-0.144065</td>\n",
       "      <td>-0.120895</td>\n",
       "      <td>-0.294356</td>\n",
       "      <td>-1.729192</td>\n",
       "      <td>-0.932193</td>\n",
       "      <td>0.487190</td>\n",
       "      <td>-0.255693</td>\n",
       "      <td>1.558189</td>\n",
       "    </tr>\n",
       "  </tbody>\n",
       "</table>\n",
       "<p>5 rows × 711 columns</p>\n",
       "</div>"
      ],
      "text/plain": [
       "       Date  Regime  Label       RPI   W875RX1  DPCERA3M086SBEA  CMRMTSPLx  \\\n",
       "690  3/1/18  Normal    1.0  0.606516  0.527506         1.940925   0.766276   \n",
       "691  4/1/18  Normal    1.0 -0.502149 -0.636504         0.817201  -0.046217   \n",
       "692  5/1/18  Normal    1.0 -0.157972 -0.087370         0.961463   0.430122   \n",
       "693  6/1/18  Normal    1.0  0.349574  0.372821         0.885536   0.064680   \n",
       "694  7/1/18  Normal    1.0  0.226072  0.198799         0.953870   0.152546   \n",
       "\n",
       "      RETAILx    INDPRO   IPFPNSS  ...  DTCTHFNM 3M lag  DTCTHFNM 6M lag  \\\n",
       "690  1.274550  0.846787  0.299897  ...        -0.179476        -0.133584   \n",
       "691  0.446035  2.249922  2.407931  ...        -0.311433        -0.143804   \n",
       "692  2.454556 -2.070060 -3.892538  ...        -0.482148         0.033541   \n",
       "693  0.228146  1.122719  1.232840  ...        -0.658221        -0.180663   \n",
       "694  1.057109  0.678551 -0.049807  ...         0.108100        -0.312682   \n",
       "\n",
       "     DTCTHFNM 9M lag  DTCTHFNM 12M lag  DTCTHFNM 18M lag  INVEST 3M lag  \\\n",
       "690         0.235757         -0.086180          0.141696       2.230249   \n",
       "691        -0.120572         -0.448552         -0.232925      -0.915205   \n",
       "692        -0.213760          0.107234         -0.231100      -2.973997   \n",
       "693        -0.133844          0.235449         -0.198484      -1.760285   \n",
       "694        -0.144065         -0.120895         -0.294356      -1.729192   \n",
       "\n",
       "     INVEST 6M lag  INVEST 9M lag  INVEST 12M lag  INVEST 18M lag  \n",
       "690       0.273284      -1.002908        0.770301        0.895384  \n",
       "691       0.479636      -0.258883       -0.004332       -0.588605  \n",
       "692       0.961822       0.034543        0.230030       -2.080086  \n",
       "693       2.246193       0.279925       -0.999553       -0.344927  \n",
       "694      -0.932193       0.487190       -0.255693        1.558189  \n",
       "\n",
       "[5 rows x 711 columns]"
      ]
     },
     "execution_count": 3,
     "metadata": {},
     "output_type": "execute_result"
    }
   ],
   "source": [
    "df.tail()"
   ]
  },
  {
   "cell_type": "markdown",
   "metadata": {},
   "source": [
    "## 2. Methodology <a id=\"2\"></a>"
   ]
  },
  {
   "cell_type": "markdown",
   "metadata": {},
   "source": [
    "Our exercise will be based on classification problem. We have two binary outcomes that we want to predict with certain variables. Here we will summarize our approach to predict recessions with machine learning algorithms.\n",
    "\n",
    "1. We will perform feature selection before making our forecasts. We will use $L_1$ regularized logistic regression for that purpose.\n",
    "\n",
    "2. Separate dataset into training and validation datasets. Split based dataset based on time: the period over 1960-1996 is selected for training and the period over 1996-2018 is kept for validation\n",
    "\n",
    "3. Evaluate performances of the machine learning algorithms on training dataset with cross validation (CV). Since we have time series structure we will use a special type of CV function in Python,__[`TimeSeriesSplit`](https://scikit-learn.org/stable/modules/generated/sklearn.model_selection.TimeSeriesSplit.html#sklearn.model_selection.TimeSeriesSplit)__. We will use Receiver operating characteristic (ROC) as scoring metric in our models. Related Python functions for this metric are __[`roc_auc_score`](https://scikit-learn.org/stable/modules/generated/sklearn.metrics.roc_auc_score.html#sklearn.metrics.roc_auc_score)__  and  __[`roc_curve`](https://scikit-learn.org/stable/modules/generated/sklearn.metrics.roc_curve.html#sklearn.metrics.roc_curve)__.\n",
    "\n",
    "4. Select the best performing models based on average accuracy and standard deviation of the CV results. We will take logistic regression as a benchmark model since this is the traditional method has been used to approach this problem.\n",
    "\n",
    "5. Then we make predictions on the validation dataset with selected models. First, we use __[`GridSearchCV`](https://scikit-learn.org/stable/modules/generated/sklearn.model_selection.GridSearchCV.html)__ for selected model on training dataset to find best combination of parameters for the model. Then we evaluate the model on validation dataset and report accuracy metrics and feature importance results."
   ]
  },
  {
   "cell_type": "markdown",
   "metadata": {},
   "source": [
    "## 3. Feature Selection with $L_1$ Penalty <a id=\"3\"></a>"
   ]
  },
  {
   "cell_type": "code",
   "execution_count": 4,
   "metadata": {},
   "outputs": [],
   "source": [
    "# Time Series Split\n",
    "df_idx = df[df.Date == '12/1/96'].index[0]\n",
    "\n",
    "df_targets=df['Label'].values\n",
    "df_features=df.drop(['Regime','Date','Label'], axis=1)\n",
    "\n",
    "df_training_features = df.iloc[:df_idx,:].drop(['Regime','Date','Label'], axis=1)\n",
    "df_validation_features = df.iloc[df_idx:, :].drop(['Regime','Date','Label'], axis=1)\n",
    "\n",
    "df_training_targets = df['Label'].values\n",
    "df_training_targets=df_training_targets[:df_idx]\n",
    "\n",
    "df_validation_targets = df['Label'].values\n",
    "df_validation_targets=df_validation_targets[df_idx:]\n",
    "\n"
   ]
  },
  {
   "cell_type": "code",
   "execution_count": 5,
   "metadata": {},
   "outputs": [
    {
     "name": "stdout",
     "output_type": "stream",
     "text": [
      "435 435 695\n",
      "260 260 695\n"
     ]
    }
   ],
   "source": [
    "print(len(df_training_features),len(df_training_targets),len(df_targets))\n",
    "print(len(df_validation_features),len(df_validation_targets),len(df_features))"
   ]
  },
  {
   "cell_type": "code",
   "execution_count": 10,
   "metadata": {},
   "outputs": [
    {
     "data": {
      "text/plain": [
       "LogisticRegression(C=0.1, class_weight=None, dual=False, fit_intercept=True,\n",
       "                   intercept_scaling=1, l1_ratio=None, max_iter=10000,\n",
       "                   multi_class='auto', n_jobs=None, penalty='l1',\n",
       "                   random_state=None, solver='liblinear', tol=0.0001, verbose=0,\n",
       "                   warm_start=False)"
      ]
     },
     "execution_count": 10,
     "metadata": {},
     "output_type": "execute_result"
    }
   ],
   "source": [
    "scoring=\"roc_auc\"\n",
    "kfold= model_selection.TimeSeriesSplit(n_splits=3)\n",
    "seed=8\n",
    "\n",
    "# Create regularization hyperparameter space\n",
    "C = np.reciprocal([0.00000001, 0.00000005, 0.0000001, 0.0000005, 0.000001, 0.000005, 0.00001, 0.00005, \n",
    "                         0.0001, 0.0005, 0.001, 0.005, 0.01, 0.05, 0.1, 0.5, 1, 5, 10, 50, 100, 500, 1000, 5000])\n",
    "\n",
    "# Create hyperparameter options\n",
    "hyperparameters = dict(C=C)\n",
    "\n",
    "model=LogisticRegression(max_iter=10000, solver = 'liblinear', penalty='l1')\n",
    "LR_penalty=model_selection.GridSearchCV(estimator=model, param_grid= hyperparameters,\n",
    "                                        cv=kfold, scoring=scoring).fit(X=df_features,\n",
    "                                                                       y=df_targets).best_estimator_\n",
    "\n",
    "LR_penalty"
   ]
  },
  {
   "cell_type": "code",
   "execution_count": 11,
   "metadata": {},
   "outputs": [
    {
     "data": {
      "text/plain": [
       "(435, 26)"
      ]
     },
     "execution_count": 11,
     "metadata": {},
     "output_type": "execute_result"
    }
   ],
   "source": [
    "X=df_training_features \n",
    "y=df_training_targets\n",
    "lr_l1 = LogisticRegression(C=0.1, max_iter=10000, solver = 'liblinear', penalty=\"l1\").fit(X,y) #change solver\n",
    "model = SelectFromModel(lr_l1,prefit=True)\n",
    "feature_idx = model.get_support()\n",
    "feature_name = X.columns[feature_idx]\n",
    "X_new = model.transform(X)\n",
    "X_new.shape"
   ]
  },
  {
   "cell_type": "code",
   "execution_count": 12,
   "metadata": {},
   "outputs": [
    {
     "data": {
      "text/plain": [
       "Index(['PAYEMS', 'HOUST', 'S&P div yield', 'BAA', 'TB3SMFFM', 'T5YFFM',\n",
       "       'T10YFFM', 'HWIURATIO 9M lag', 'USGOOD 9M lag', 'DMANEMP 9M lag',\n",
       "       'HOUSTMW 6M lag', 'S&P div yield 3M lag', 'S&P div yield 18M lag',\n",
       "       'COMPAPFFx 3M lag', 'COMPAPFFx 6M lag', 'COMPAPFFx 9M lag',\n",
       "       'T1YFFM 3M lag', 'T1YFFM 12M lag', 'T5YFFM 3M lag', 'T5YFFM 6M lag',\n",
       "       'T5YFFM 9M lag', 'T5YFFM 12M lag', 'T10YFFM 6M lag', 'EXSZUSx 6M lag',\n",
       "       'EXJPUSx 3M lag', 'EXJPUSx 9M lag'],\n",
       "      dtype='object')"
      ]
     },
     "execution_count": 12,
     "metadata": {},
     "output_type": "execute_result"
    }
   ],
   "source": [
    "feature_name"
   ]
  },
  {
   "cell_type": "code",
   "execution_count": 13,
   "metadata": {},
   "outputs": [
    {
     "data": {
      "text/plain": [
       "(695, 29)"
      ]
     },
     "execution_count": 13,
     "metadata": {},
     "output_type": "execute_result"
    }
   ],
   "source": [
    "df_2=df[feature_name]\n",
    "df_2.insert(loc=0, column=\"Date\", value=df['Date'].values)\n",
    "df_2.insert(loc=1, column=\"Regime\", value=df['Regime'].values)\n",
    "df_2.insert(loc=2, column=\"Label\", value=df['Label'].values)\n",
    "\n",
    "df_2.head()\n",
    "df_2.shape"
   ]
  },
  {
   "cell_type": "code",
   "execution_count": 14,
   "metadata": {},
   "outputs": [
    {
     "data": {
      "text/plain": [
       "<matplotlib.axes._subplots.AxesSubplot at 0x1d0eaa0c9c8>"
      ]
     },
     "execution_count": 14,
     "metadata": {},
     "output_type": "execute_result"
    },
    {
     "data": {
      "image/png": "[encoded data removed]",
      "text/plain": [
       "<Figure size 720x576 with 2 Axes>"
      ]
     },
     "metadata": {
      "needs_background": "light"
     },
     "output_type": "display_data"
    }
   ],
   "source": [
    "corr = df_2.drop(['Date','Regime','Label'],axis=1).corr()\n",
    "plt.figure(figsize=(10, 8))\n",
    "sns.heatmap(corr, mask=np.zeros_like(corr, dtype=np.bool), \n",
    "            cmap=sns.diverging_palette(220, 10, as_cmap=True), square=True)"
   ]
  },
  {
   "cell_type": "markdown",
   "metadata": {},
   "source": [
    "## 4. Training Algorithms on Training Dataset <a id=\"3\"></a>"
   ]
  },
  {
   "cell_type": "markdown",
   "metadata": {},
   "source": [
    "For a detail description of the machine learning algorithms you can check scikit-learn's documentation __[here](https://scikit-learn.org/stable/supervised_learning.html#supervised-learning)__."
   ]
  },
  {
   "cell_type": "code",
   "execution_count": 15,
   "metadata": {},
   "outputs": [
    {
     "data": {
      "text/plain": [
       "(695, 29)"
      ]
     },
     "execution_count": 15,
     "metadata": {},
     "output_type": "execute_result"
    }
   ],
   "source": [
    "df=df_2\n",
    "df.shape"
   ]
  },
  {
   "cell_type": "code",
   "execution_count": 16,
   "metadata": {},
   "outputs": [],
   "source": [
    "# Time Series Split\n",
    "df_idx = df[df.Date == '12/1/96'].index[0]\n",
    "\n",
    "df_targets=df['Label'].values\n",
    "df_features=df.drop(['Regime','Date','Label'], axis=1)\n",
    "\n",
    "df_training_features = df.iloc[:df_idx,:].drop(['Regime','Date','Label'], axis=1)\n",
    "df_validation_features = df.iloc[df_idx:, :].drop(['Regime','Date','Label'], axis=1)\n",
    "\n",
    "df_training_targets = df['Label'].values\n",
    "df_training_targets=df_training_targets[:df_idx]\n",
    "\n",
    "df_validation_targets = df['Label'].values\n",
    "df_validation_targets=df_validation_targets[df_idx:]\n",
    "\n"
   ]
  },
  {
   "cell_type": "code",
   "execution_count": 18,
   "metadata": {},
   "outputs": [
    {
     "name": "stdout",
     "output_type": "stream",
     "text": [
      "LR: 0.785989 (0.147595)\n",
      "LR_L1: 0.946079 (0.012737)\n",
      "LR_L2: 0.939649 (0.027621)\n",
      "LDA: 0.824576 (0.142718)\n",
      "KNN: 0.891835 (0.068931)\n",
      "GB: 0.848487 (0.054262)\n",
      "ABC: 0.916384 (0.026077)\n",
      "RF: 0.925949 (0.030681)\n",
      "XGB: 0.898373 (0.051411)\n"
     ]
    },
    {
     "data": {
      "image/png": "[encoded data removed]",
      "text/plain": [
       "<Figure size 432x288 with 1 Axes>"
      ]
     },
     "metadata": {
      "needs_background": "light"
     },
     "output_type": "display_data"
    }
   ],
   "source": [
    "seed=8\n",
    "scoring='roc_auc' \n",
    "kfold = model_selection.TimeSeriesSplit(n_splits=3) \n",
    "models = []\n",
    "\n",
    "models.append(('LR', LogisticRegression(C=1e09)))\n",
    "models.append(('LR_L1', LogisticRegression(penalty = 'l1', solver = \"liblinear\")))\n",
    "models.append(('LR_L2', LogisticRegression(penalty = 'l2')))\n",
    "models.append(('LDA', LinearDiscriminantAnalysis()))\n",
    "models.append(('KNN', KNeighborsClassifier()))\n",
    "models.append(('GB', GradientBoostingClassifier()))\n",
    "models.append(('ABC', AdaBoostClassifier()))\n",
    "models.append(('RF', RandomForestClassifier()))\n",
    "models.append(('XGB', xgb.XGBClassifier()))\n",
    "\n",
    "results = []\n",
    "names = []\n",
    "lb = preprocessing.LabelBinarizer()\n",
    "\n",
    "for name, model in models:\n",
    "    cv_results = model_selection.cross_val_score(estimator = model, X = df_training_features, \n",
    "                                                 y = lb.fit_transform(df_training_targets), cv=kfold, scoring = scoring)\n",
    "    \n",
    "    model.fit(df_training_features, df_training_targets) # train the model\n",
    "    fpr, tpr, thresholds = metrics.roc_curve(df_training_targets, model.predict_proba(df_training_features)[:,1])\n",
    "    auc = metrics.roc_auc_score(df_training_targets,model.predict(df_training_features))\n",
    "    plt.plot(fpr, tpr, label='%s ROC (area = %0.2f)' % (name, auc))\n",
    "    results.append(cv_results)\n",
    "    names.append(name)\n",
    "    msg = \"%s: %f (%f)\" % (name, cv_results.mean(), cv_results.std())\n",
    "    print(msg)\n",
    "\n",
    "plt.plot([0, 1], [0, 1],'r--')\n",
    "plt.xlim([-0.05, 1.0])\n",
    "plt.ylim([0.0, 1.05])\n",
    "plt.xlabel('1-Specificity(False Positive Rate)')\n",
    "plt.ylabel('Sensitivity(True Positive Rate)')\n",
    "plt.title('Receiver Operating Characteristic')\n",
    "plt.legend(loc='center left', bbox_to_anchor=(1, 0.5))\n",
    "plt.show() \n",
    "warnings.filterwarnings('ignore')"
   ]
  },
  {
   "cell_type": "code",
   "execution_count": 19,
   "metadata": {},
   "outputs": [
    {
     "data": {
      "image/png": "[encoded data removed]",
      "text/plain": [
       "<Figure size 432x288 with 1 Axes>"
      ]
     },
     "metadata": {
      "needs_background": "light"
     },
     "output_type": "display_data"
    }
   ],
   "source": [
    "fig = plt.figure()\n",
    "fig.suptitle('Algorithm Comparison based on Cross Validation Scores')\n",
    "ax = fig.add_subplot(111)\n",
    "plt.boxplot(results)\n",
    "ax.set_xticklabels(names)\n",
    "plt.show()"
   ]
  },
  {
   "cell_type": "markdown",
   "metadata": {},
   "source": [
    "## 4. Evaluate Performances of the Algorithms on Validation Dataset <a id=\"4\"></a>"
   ]
  },
  {
   "cell_type": "markdown",
   "metadata": {},
   "source": [
    "### Logistic Regression"
   ]
  },
  {
   "cell_type": "markdown",
   "metadata": {},
   "source": [
    "Logistic regression is the most commonly used statistical model for binary classification. It uses the logit model of relating log-odds of the dependent variable linearly with the predictor (explanatory) variables to learn a form of the following logistic function that is used to separate instances of the two different classes. \n",
    "\n",
    "\\begin{align*}\n",
    "Pr(y=1|x) = h_\\beta(x) = \\frac{1}{1 + e^{-(\\beta_0 + \\beta_1  x)}} \\text{ where $\\beta_0$ is the intercept and $\\beta$ is the vector of trained weights}\n",
    "\\end{align*}\n",
    "\n",
    "The function returns a probability measure of which class a new instance is given its features, this measure is then used to make the final classification with some probability threshold, traditionally being 0.5.\n",
    "\n",
    "The specific logistic function is learned through gradient descent which focuses on minimizing error calculated through some cost function. A typical approach is to use the following maximum-likelihood estimator to minimize error in predicted probabilities.\n",
    "\n",
    "\\begin{align*}\n",
    "& J(\\beta) = -\\frac{1}{N}\\sum_{i=1}^Ny_ilog(h_\\beta(x_i)) + (1 - y_i)log(1 - h_\\beta(x_i)) \\\\\n",
    "& \\text{ where $N$ is the number of observations, $h_\\beta(x)$ is as defined above, and $y_i$ is the predicted class}\n",
    "\\end{align*}\n",
    "\n",
    "A regularization term \n",
    "\n",
    "\\begin{align*}\n",
    "\\lambda\\sum_{i=1}^N|\\beta_i| \\text{ where $\\lambda$ is a regularization parameter, }\n",
    "\\end{align*}\n",
    "\n",
    "is often added to the cost function to prevent overfitting by penalizing large coefficients. This regularization can be L1 or L2 penalty depending on the problem at hand."
   ]
  },
  {
   "cell_type": "code",
   "execution_count": 20,
   "metadata": {},
   "outputs": [],
   "source": [
    "model=LogisticRegression(C=1e09) # high penalty \n",
    "LR=model.fit(df_training_features,df_training_targets)\n",
    "training_predictions=LR.predict(df_training_features)\n",
    "prob_predictions = LR.predict_proba(df_training_features)\n",
    "prob_predictions = np.append(prob_predictions, LR.predict_proba(df_validation_features), axis=0)"
   ]
  },
  {
   "cell_type": "code",
   "execution_count": 21,
   "metadata": {},
   "outputs": [
    {
     "data": {
      "text/plain": [
       "(695, 2)"
      ]
     },
     "execution_count": 21,
     "metadata": {},
     "output_type": "execute_result"
    }
   ],
   "source": [
    "prob_predictions.shape"
   ]
  },
  {
   "cell_type": "code",
   "execution_count": 24,
   "metadata": {},
   "outputs": [],
   "source": [
    "import datetime\n",
    "# define periods of recession\n",
    "rec_spans = []\n",
    "#rec_spans.append([datetime.datetime(1957,8,1), datetime.datetime(1958,4,1)])\n",
    "rec_spans.append([datetime.datetime(1960,4,1), datetime.datetime(1961,2,1)])\n",
    "rec_spans.append([datetime.datetime(1969,12,1), datetime.datetime(1970,11,1)])\n",
    "rec_spans.append([datetime.datetime(1973,11,1), datetime.datetime(1975,3,1)])\n",
    "rec_spans.append([datetime.datetime(1980,1,1), datetime.datetime(1980,6,1)])\n",
    "rec_spans.append([datetime.datetime(1981,7,1), datetime.datetime(1982,10,1)])\n",
    "rec_spans.append([datetime.datetime(1990,7,1), datetime.datetime(1991,2,1)])\n",
    "rec_spans.append([datetime.datetime(2001,3,1), datetime.datetime(2001,10,1)])\n",
    "rec_spans.append([datetime.datetime(2007,12,1), datetime.datetime(2009,5,1)])"
   ]
  },
  {
   "cell_type": "code",
   "execution_count": 25,
   "metadata": {},
   "outputs": [
    {
     "ename": "ValueError",
     "evalue": "x and y must have same first dimension, but have shapes (697,) and (695,)",
     "output_type": "error",
     "traceback": [
      "\u001b[1;31m---------------------------------------------------------------------------\u001b[0m",
      "\u001b[1;31mValueError\u001b[0m                                Traceback (most recent call last)",
      "\u001b[1;32m<ipython-input-25-e05e20302275>\u001b[0m in \u001b[0;36m<module>\u001b[1;34m\u001b[0m\n\u001b[0;32m      2\u001b[0m \u001b[1;33m\u001b[0m\u001b[0m\n\u001b[0;32m      3\u001b[0m \u001b[0mplt\u001b[0m\u001b[1;33m.\u001b[0m\u001b[0mfigure\u001b[0m\u001b[1;33m(\u001b[0m\u001b[0mfigsize\u001b[0m\u001b[1;33m=\u001b[0m\u001b[1;33m(\u001b[0m\u001b[1;36m20\u001b[0m\u001b[1;33m,\u001b[0m\u001b[1;36m5\u001b[0m\u001b[1;33m)\u001b[0m\u001b[1;33m)\u001b[0m\u001b[1;33m\u001b[0m\u001b[1;33m\u001b[0m\u001b[0m\n\u001b[1;32m----> 4\u001b[1;33m \u001b[0mplt\u001b[0m\u001b[1;33m.\u001b[0m\u001b[0mplot\u001b[0m\u001b[1;33m(\u001b[0m\u001b[0msample_range\u001b[0m\u001b[1;33m.\u001b[0m\u001b[0mto_series\u001b[0m\u001b[1;33m(\u001b[0m\u001b[1;33m)\u001b[0m\u001b[1;33m.\u001b[0m\u001b[0mvalues\u001b[0m\u001b[1;33m,\u001b[0m \u001b[0mprob_predictions\u001b[0m\u001b[1;33m[\u001b[0m\u001b[1;33m:\u001b[0m\u001b[1;33m,\u001b[0m\u001b[1;36m0\u001b[0m\u001b[1;33m]\u001b[0m\u001b[1;33m)\u001b[0m\u001b[1;33m\u001b[0m\u001b[1;33m\u001b[0m\u001b[0m\n\u001b[0m\u001b[0;32m      5\u001b[0m \u001b[1;32mfor\u001b[0m \u001b[0mi\u001b[0m \u001b[1;32min\u001b[0m \u001b[0mrange\u001b[0m\u001b[1;33m(\u001b[0m\u001b[0mlen\u001b[0m\u001b[1;33m(\u001b[0m\u001b[0mrec_spans\u001b[0m\u001b[1;33m)\u001b[0m\u001b[1;33m)\u001b[0m\u001b[1;33m:\u001b[0m\u001b[1;33m\u001b[0m\u001b[1;33m\u001b[0m\u001b[0m\n\u001b[0;32m      6\u001b[0m     \u001b[0mplt\u001b[0m\u001b[1;33m.\u001b[0m\u001b[0maxvspan\u001b[0m\u001b[1;33m(\u001b[0m\u001b[0mrec_spans\u001b[0m\u001b[1;33m[\u001b[0m\u001b[0mi\u001b[0m\u001b[1;33m]\u001b[0m\u001b[1;33m[\u001b[0m\u001b[1;36m0\u001b[0m\u001b[1;33m]\u001b[0m\u001b[1;33m,\u001b[0m \u001b[0mrec_spans\u001b[0m\u001b[1;33m[\u001b[0m\u001b[0mi\u001b[0m\u001b[1;33m]\u001b[0m\u001b[1;33m[\u001b[0m\u001b[0mlen\u001b[0m\u001b[1;33m(\u001b[0m\u001b[0mrec_spans\u001b[0m\u001b[1;33m[\u001b[0m\u001b[0mi\u001b[0m\u001b[1;33m]\u001b[0m\u001b[1;33m)\u001b[0m \u001b[1;33m-\u001b[0m \u001b[1;36m1\u001b[0m\u001b[1;33m]\u001b[0m\u001b[1;33m,\u001b[0m \u001b[0malpha\u001b[0m\u001b[1;33m=\u001b[0m\u001b[1;36m0.25\u001b[0m\u001b[1;33m,\u001b[0m \u001b[0mcolor\u001b[0m\u001b[1;33m=\u001b[0m\u001b[1;34m'grey'\u001b[0m\u001b[1;33m)\u001b[0m\u001b[1;33m\u001b[0m\u001b[1;33m\u001b[0m\u001b[0m\n",
      "\u001b[1;32m~\\anaconda3\\lib\\site-packages\\matplotlib\\pyplot.py\u001b[0m in \u001b[0;36mplot\u001b[1;34m(scalex, scaley, data, *args, **kwargs)\u001b[0m\n\u001b[0;32m   2794\u001b[0m     return gca().plot(\n\u001b[0;32m   2795\u001b[0m         *args, scalex=scalex, scaley=scaley, **({\"data\": data} if data\n\u001b[1;32m-> 2796\u001b[1;33m         is not None else {}), **kwargs)\n\u001b[0m\u001b[0;32m   2797\u001b[0m \u001b[1;33m\u001b[0m\u001b[0m\n\u001b[0;32m   2798\u001b[0m \u001b[1;33m\u001b[0m\u001b[0m\n",
      "\u001b[1;32m~\\anaconda3\\lib\\site-packages\\matplotlib\\axes\\_axes.py\u001b[0m in \u001b[0;36mplot\u001b[1;34m(self, scalex, scaley, data, *args, **kwargs)\u001b[0m\n\u001b[0;32m   1663\u001b[0m         \"\"\"\n\u001b[0;32m   1664\u001b[0m         \u001b[0mkwargs\u001b[0m \u001b[1;33m=\u001b[0m \u001b[0mcbook\u001b[0m\u001b[1;33m.\u001b[0m\u001b[0mnormalize_kwargs\u001b[0m\u001b[1;33m(\u001b[0m\u001b[0mkwargs\u001b[0m\u001b[1;33m,\u001b[0m \u001b[0mmlines\u001b[0m\u001b[1;33m.\u001b[0m\u001b[0mLine2D\u001b[0m\u001b[1;33m.\u001b[0m\u001b[0m_alias_map\u001b[0m\u001b[1;33m)\u001b[0m\u001b[1;33m\u001b[0m\u001b[1;33m\u001b[0m\u001b[0m\n\u001b[1;32m-> 1665\u001b[1;33m         \u001b[0mlines\u001b[0m \u001b[1;33m=\u001b[0m \u001b[1;33m[\u001b[0m\u001b[1;33m*\u001b[0m\u001b[0mself\u001b[0m\u001b[1;33m.\u001b[0m\u001b[0m_get_lines\u001b[0m\u001b[1;33m(\u001b[0m\u001b[1;33m*\u001b[0m\u001b[0margs\u001b[0m\u001b[1;33m,\u001b[0m \u001b[0mdata\u001b[0m\u001b[1;33m=\u001b[0m\u001b[0mdata\u001b[0m\u001b[1;33m,\u001b[0m \u001b[1;33m**\u001b[0m\u001b[0mkwargs\u001b[0m\u001b[1;33m)\u001b[0m\u001b[1;33m]\u001b[0m\u001b[1;33m\u001b[0m\u001b[1;33m\u001b[0m\u001b[0m\n\u001b[0m\u001b[0;32m   1666\u001b[0m         \u001b[1;32mfor\u001b[0m \u001b[0mline\u001b[0m \u001b[1;32min\u001b[0m \u001b[0mlines\u001b[0m\u001b[1;33m:\u001b[0m\u001b[1;33m\u001b[0m\u001b[1;33m\u001b[0m\u001b[0m\n\u001b[0;32m   1667\u001b[0m             \u001b[0mself\u001b[0m\u001b[1;33m.\u001b[0m\u001b[0madd_line\u001b[0m\u001b[1;33m(\u001b[0m\u001b[0mline\u001b[0m\u001b[1;33m)\u001b[0m\u001b[1;33m\u001b[0m\u001b[1;33m\u001b[0m\u001b[0m\n",
      "\u001b[1;32m~\\anaconda3\\lib\\site-packages\\matplotlib\\axes\\_base.py\u001b[0m in \u001b[0;36m__call__\u001b[1;34m(self, *args, **kwargs)\u001b[0m\n\u001b[0;32m    223\u001b[0m                 \u001b[0mthis\u001b[0m \u001b[1;33m+=\u001b[0m \u001b[0margs\u001b[0m\u001b[1;33m[\u001b[0m\u001b[1;36m0\u001b[0m\u001b[1;33m]\u001b[0m\u001b[1;33m,\u001b[0m\u001b[1;33m\u001b[0m\u001b[1;33m\u001b[0m\u001b[0m\n\u001b[0;32m    224\u001b[0m                 \u001b[0margs\u001b[0m \u001b[1;33m=\u001b[0m \u001b[0margs\u001b[0m\u001b[1;33m[\u001b[0m\u001b[1;36m1\u001b[0m\u001b[1;33m:\u001b[0m\u001b[1;33m]\u001b[0m\u001b[1;33m\u001b[0m\u001b[1;33m\u001b[0m\u001b[0m\n\u001b[1;32m--> 225\u001b[1;33m             \u001b[1;32myield\u001b[0m \u001b[1;32mfrom\u001b[0m \u001b[0mself\u001b[0m\u001b[1;33m.\u001b[0m\u001b[0m_plot_args\u001b[0m\u001b[1;33m(\u001b[0m\u001b[0mthis\u001b[0m\u001b[1;33m,\u001b[0m \u001b[0mkwargs\u001b[0m\u001b[1;33m)\u001b[0m\u001b[1;33m\u001b[0m\u001b[1;33m\u001b[0m\u001b[0m\n\u001b[0m\u001b[0;32m    226\u001b[0m \u001b[1;33m\u001b[0m\u001b[0m\n\u001b[0;32m    227\u001b[0m     \u001b[1;32mdef\u001b[0m \u001b[0mget_next_color\u001b[0m\u001b[1;33m(\u001b[0m\u001b[0mself\u001b[0m\u001b[1;33m)\u001b[0m\u001b[1;33m:\u001b[0m\u001b[1;33m\u001b[0m\u001b[1;33m\u001b[0m\u001b[0m\n",
      "\u001b[1;32m~\\anaconda3\\lib\\site-packages\\matplotlib\\axes\\_base.py\u001b[0m in \u001b[0;36m_plot_args\u001b[1;34m(self, tup, kwargs)\u001b[0m\n\u001b[0;32m    389\u001b[0m             \u001b[0mx\u001b[0m\u001b[1;33m,\u001b[0m \u001b[0my\u001b[0m \u001b[1;33m=\u001b[0m \u001b[0mindex_of\u001b[0m\u001b[1;33m(\u001b[0m\u001b[0mtup\u001b[0m\u001b[1;33m[\u001b[0m\u001b[1;33m-\u001b[0m\u001b[1;36m1\u001b[0m\u001b[1;33m]\u001b[0m\u001b[1;33m)\u001b[0m\u001b[1;33m\u001b[0m\u001b[1;33m\u001b[0m\u001b[0m\n\u001b[0;32m    390\u001b[0m \u001b[1;33m\u001b[0m\u001b[0m\n\u001b[1;32m--> 391\u001b[1;33m         \u001b[0mx\u001b[0m\u001b[1;33m,\u001b[0m \u001b[0my\u001b[0m \u001b[1;33m=\u001b[0m \u001b[0mself\u001b[0m\u001b[1;33m.\u001b[0m\u001b[0m_xy_from_xy\u001b[0m\u001b[1;33m(\u001b[0m\u001b[0mx\u001b[0m\u001b[1;33m,\u001b[0m \u001b[0my\u001b[0m\u001b[1;33m)\u001b[0m\u001b[1;33m\u001b[0m\u001b[1;33m\u001b[0m\u001b[0m\n\u001b[0m\u001b[0;32m    392\u001b[0m \u001b[1;33m\u001b[0m\u001b[0m\n\u001b[0;32m    393\u001b[0m         \u001b[1;32mif\u001b[0m \u001b[0mself\u001b[0m\u001b[1;33m.\u001b[0m\u001b[0mcommand\u001b[0m \u001b[1;33m==\u001b[0m \u001b[1;34m'plot'\u001b[0m\u001b[1;33m:\u001b[0m\u001b[1;33m\u001b[0m\u001b[1;33m\u001b[0m\u001b[0m\n",
      "\u001b[1;32m~\\anaconda3\\lib\\site-packages\\matplotlib\\axes\\_base.py\u001b[0m in \u001b[0;36m_xy_from_xy\u001b[1;34m(self, x, y)\u001b[0m\n\u001b[0;32m    268\u001b[0m         \u001b[1;32mif\u001b[0m \u001b[0mx\u001b[0m\u001b[1;33m.\u001b[0m\u001b[0mshape\u001b[0m\u001b[1;33m[\u001b[0m\u001b[1;36m0\u001b[0m\u001b[1;33m]\u001b[0m \u001b[1;33m!=\u001b[0m \u001b[0my\u001b[0m\u001b[1;33m.\u001b[0m\u001b[0mshape\u001b[0m\u001b[1;33m[\u001b[0m\u001b[1;36m0\u001b[0m\u001b[1;33m]\u001b[0m\u001b[1;33m:\u001b[0m\u001b[1;33m\u001b[0m\u001b[1;33m\u001b[0m\u001b[0m\n\u001b[0;32m    269\u001b[0m             raise ValueError(\"x and y must have same first dimension, but \"\n\u001b[1;32m--> 270\u001b[1;33m                              \"have shapes {} and {}\".format(x.shape, y.shape))\n\u001b[0m\u001b[0;32m    271\u001b[0m         \u001b[1;32mif\u001b[0m \u001b[0mx\u001b[0m\u001b[1;33m.\u001b[0m\u001b[0mndim\u001b[0m \u001b[1;33m>\u001b[0m \u001b[1;36m2\u001b[0m \u001b[1;32mor\u001b[0m \u001b[0my\u001b[0m\u001b[1;33m.\u001b[0m\u001b[0mndim\u001b[0m \u001b[1;33m>\u001b[0m \u001b[1;36m2\u001b[0m\u001b[1;33m:\u001b[0m\u001b[1;33m\u001b[0m\u001b[1;33m\u001b[0m\u001b[0m\n\u001b[0;32m    272\u001b[0m             raise ValueError(\"x and y can be no greater than 2-D, but have \"\n",
      "\u001b[1;31mValueError\u001b[0m: x and y must have same first dimension, but have shapes (697,) and (695,)"
     ]
    },
    {
     "data": {
      "image/png": "[encoded data removed]",
      "text/plain": [
       "<Figure size 1440x360 with 1 Axes>"
      ]
     },
     "metadata": {
      "needs_background": "light"
     },
     "output_type": "display_data"
    }
   ],
   "source": [
    "sample_range = pd.date_range(start='9/1/1960', end='9/1/2018', freq='MS')\n",
    "\n",
    "plt.figure(figsize=(20,5))\n",
    "plt.plot(sample_range.to_series().values, prob_predictions[:,0])\n",
    "for i in range(len(rec_spans)):\n",
    "    plt.axvspan(rec_spans[i][0], rec_spans[i][len(rec_spans[i]) - 1], alpha=0.25, color='grey')\n",
    "plt.axhline(y=0.5, color='r', ls='dashed', alpha = 0.5)\n",
    "plt.title('Recession Prediction Probabalities with Logistic Regression')\n",
    "mp.savefig('plot1.png',  bbox_inches='tight')\n",
    "plt.show()"
   ]
  },
  {
   "cell_type": "markdown",
   "metadata": {},
   "source": [
    "### Logistic Regression with Regularization"
   ]
  },
  {
   "cell_type": "code",
   "execution_count": 26,
   "metadata": {},
   "outputs": [],
   "source": [
    "# Create regularization penalty space\n",
    "penalty = ['l1', 'l2']\n",
    "\n",
    "# Create regularization hyperparameter space\n",
    "C = np.reciprocal([0.00000001, 0.00000005, 0.0000001, 0.0000005, 0.000001, 0.000005, 0.00001, 0.00005, \n",
    "                         0.0001, 0.0005, 0.001, 0.005, 0.01, 0.05, 0.1, 0.5, 1, 5, 10, 50, 100, 500, 1000, 5000])\n",
    "\n",
    "# Create hyperparameter options\n",
    "hyperparameters = dict(C=C, penalty=penalty)\n",
    "\n",
    "\n",
    "model=LogisticRegression(max_iter=10000)\n",
    "LR_penalty=model_selection.GridSearchCV(estimator=model, param_grid= hyperparameters,\n",
    "                                        cv=kfold, scoring=scoring).fit(df_training_features,\n",
    "                                                                       df_training_targets).best_estimator_\n",
    "training_predictions=LR_penalty.predict(df_training_features)"
   ]
  },
  {
   "cell_type": "code",
   "execution_count": 27,
   "metadata": {},
   "outputs": [],
   "source": [
    "prob_predictions = LR_penalty.predict_proba(df_training_features)\n",
    "prob_predictions = np.append(prob_predictions, LR_penalty.predict_proba(df_validation_features), axis=0)"
   ]
  },
  {
   "cell_type": "code",
   "execution_count": 28,
   "metadata": {},
   "outputs": [
    {
     "ename": "ValueError",
     "evalue": "x and y must have same first dimension, but have shapes (697,) and (695,)",
     "output_type": "error",
     "traceback": [
      "\u001b[1;31m---------------------------------------------------------------------------\u001b[0m",
      "\u001b[1;31mValueError\u001b[0m                                Traceback (most recent call last)",
      "\u001b[1;32m<ipython-input-28-ea8f728e1936>\u001b[0m in \u001b[0;36m<module>\u001b[1;34m\u001b[0m\n\u001b[0;32m      2\u001b[0m \u001b[1;33m\u001b[0m\u001b[0m\n\u001b[0;32m      3\u001b[0m \u001b[0mplt\u001b[0m\u001b[1;33m.\u001b[0m\u001b[0mfigure\u001b[0m\u001b[1;33m(\u001b[0m\u001b[0mfigsize\u001b[0m\u001b[1;33m=\u001b[0m\u001b[1;33m(\u001b[0m\u001b[1;36m20\u001b[0m\u001b[1;33m,\u001b[0m\u001b[1;36m5\u001b[0m\u001b[1;33m)\u001b[0m\u001b[1;33m)\u001b[0m\u001b[1;33m\u001b[0m\u001b[1;33m\u001b[0m\u001b[0m\n\u001b[1;32m----> 4\u001b[1;33m \u001b[0mplt\u001b[0m\u001b[1;33m.\u001b[0m\u001b[0mplot\u001b[0m\u001b[1;33m(\u001b[0m\u001b[0msample_range\u001b[0m\u001b[1;33m.\u001b[0m\u001b[0mto_series\u001b[0m\u001b[1;33m(\u001b[0m\u001b[1;33m)\u001b[0m\u001b[1;33m.\u001b[0m\u001b[0mvalues\u001b[0m\u001b[1;33m,\u001b[0m \u001b[0mprob_predictions\u001b[0m\u001b[1;33m[\u001b[0m\u001b[1;33m:\u001b[0m\u001b[1;33m,\u001b[0m\u001b[1;36m0\u001b[0m\u001b[1;33m]\u001b[0m\u001b[1;33m)\u001b[0m\u001b[1;33m\u001b[0m\u001b[1;33m\u001b[0m\u001b[0m\n\u001b[0m\u001b[0;32m      5\u001b[0m \u001b[1;32mfor\u001b[0m \u001b[0mi\u001b[0m \u001b[1;32min\u001b[0m \u001b[0mrange\u001b[0m\u001b[1;33m(\u001b[0m\u001b[0mlen\u001b[0m\u001b[1;33m(\u001b[0m\u001b[0mrec_spans\u001b[0m\u001b[1;33m)\u001b[0m\u001b[1;33m)\u001b[0m\u001b[1;33m:\u001b[0m\u001b[1;33m\u001b[0m\u001b[1;33m\u001b[0m\u001b[0m\n\u001b[0;32m      6\u001b[0m     \u001b[0mplt\u001b[0m\u001b[1;33m.\u001b[0m\u001b[0maxvspan\u001b[0m\u001b[1;33m(\u001b[0m\u001b[0mrec_spans\u001b[0m\u001b[1;33m[\u001b[0m\u001b[0mi\u001b[0m\u001b[1;33m]\u001b[0m\u001b[1;33m[\u001b[0m\u001b[1;36m0\u001b[0m\u001b[1;33m]\u001b[0m\u001b[1;33m,\u001b[0m \u001b[0mrec_spans\u001b[0m\u001b[1;33m[\u001b[0m\u001b[0mi\u001b[0m\u001b[1;33m]\u001b[0m\u001b[1;33m[\u001b[0m\u001b[0mlen\u001b[0m\u001b[1;33m(\u001b[0m\u001b[0mrec_spans\u001b[0m\u001b[1;33m[\u001b[0m\u001b[0mi\u001b[0m\u001b[1;33m]\u001b[0m\u001b[1;33m)\u001b[0m \u001b[1;33m-\u001b[0m \u001b[1;36m1\u001b[0m\u001b[1;33m]\u001b[0m\u001b[1;33m,\u001b[0m \u001b[0malpha\u001b[0m\u001b[1;33m=\u001b[0m\u001b[1;36m0.25\u001b[0m\u001b[1;33m,\u001b[0m \u001b[0mcolor\u001b[0m\u001b[1;33m=\u001b[0m\u001b[1;34m'grey'\u001b[0m\u001b[1;33m)\u001b[0m\u001b[1;33m\u001b[0m\u001b[1;33m\u001b[0m\u001b[0m\n",
      "\u001b[1;32m~\\anaconda3\\lib\\site-packages\\matplotlib\\pyplot.py\u001b[0m in \u001b[0;36mplot\u001b[1;34m(scalex, scaley, data, *args, **kwargs)\u001b[0m\n\u001b[0;32m   2794\u001b[0m     return gca().plot(\n\u001b[0;32m   2795\u001b[0m         *args, scalex=scalex, scaley=scaley, **({\"data\": data} if data\n\u001b[1;32m-> 2796\u001b[1;33m         is not None else {}), **kwargs)\n\u001b[0m\u001b[0;32m   2797\u001b[0m \u001b[1;33m\u001b[0m\u001b[0m\n\u001b[0;32m   2798\u001b[0m \u001b[1;33m\u001b[0m\u001b[0m\n",
      "\u001b[1;32m~\\anaconda3\\lib\\site-packages\\matplotlib\\axes\\_axes.py\u001b[0m in \u001b[0;36mplot\u001b[1;34m(self, scalex, scaley, data, *args, **kwargs)\u001b[0m\n\u001b[0;32m   1663\u001b[0m         \"\"\"\n\u001b[0;32m   1664\u001b[0m         \u001b[0mkwargs\u001b[0m \u001b[1;33m=\u001b[0m \u001b[0mcbook\u001b[0m\u001b[1;33m.\u001b[0m\u001b[0mnormalize_kwargs\u001b[0m\u001b[1;33m(\u001b[0m\u001b[0mkwargs\u001b[0m\u001b[1;33m,\u001b[0m \u001b[0mmlines\u001b[0m\u001b[1;33m.\u001b[0m\u001b[0mLine2D\u001b[0m\u001b[1;33m.\u001b[0m\u001b[0m_alias_map\u001b[0m\u001b[1;33m)\u001b[0m\u001b[1;33m\u001b[0m\u001b[1;33m\u001b[0m\u001b[0m\n\u001b[1;32m-> 1665\u001b[1;33m         \u001b[0mlines\u001b[0m \u001b[1;33m=\u001b[0m \u001b[1;33m[\u001b[0m\u001b[1;33m*\u001b[0m\u001b[0mself\u001b[0m\u001b[1;33m.\u001b[0m\u001b[0m_get_lines\u001b[0m\u001b[1;33m(\u001b[0m\u001b[1;33m*\u001b[0m\u001b[0margs\u001b[0m\u001b[1;33m,\u001b[0m \u001b[0mdata\u001b[0m\u001b[1;33m=\u001b[0m\u001b[0mdata\u001b[0m\u001b[1;33m,\u001b[0m \u001b[1;33m**\u001b[0m\u001b[0mkwargs\u001b[0m\u001b[1;33m)\u001b[0m\u001b[1;33m]\u001b[0m\u001b[1;33m\u001b[0m\u001b[1;33m\u001b[0m\u001b[0m\n\u001b[0m\u001b[0;32m   1666\u001b[0m         \u001b[1;32mfor\u001b[0m \u001b[0mline\u001b[0m \u001b[1;32min\u001b[0m \u001b[0mlines\u001b[0m\u001b[1;33m:\u001b[0m\u001b[1;33m\u001b[0m\u001b[1;33m\u001b[0m\u001b[0m\n\u001b[0;32m   1667\u001b[0m             \u001b[0mself\u001b[0m\u001b[1;33m.\u001b[0m\u001b[0madd_line\u001b[0m\u001b[1;33m(\u001b[0m\u001b[0mline\u001b[0m\u001b[1;33m)\u001b[0m\u001b[1;33m\u001b[0m\u001b[1;33m\u001b[0m\u001b[0m\n",
      "\u001b[1;32m~\\anaconda3\\lib\\site-packages\\matplotlib\\axes\\_base.py\u001b[0m in \u001b[0;36m__call__\u001b[1;34m(self, *args, **kwargs)\u001b[0m\n\u001b[0;32m    223\u001b[0m                 \u001b[0mthis\u001b[0m \u001b[1;33m+=\u001b[0m \u001b[0margs\u001b[0m\u001b[1;33m[\u001b[0m\u001b[1;36m0\u001b[0m\u001b[1;33m]\u001b[0m\u001b[1;33m,\u001b[0m\u001b[1;33m\u001b[0m\u001b[1;33m\u001b[0m\u001b[0m\n\u001b[0;32m    224\u001b[0m                 \u001b[0margs\u001b[0m \u001b[1;33m=\u001b[0m \u001b[0margs\u001b[0m\u001b[1;33m[\u001b[0m\u001b[1;36m1\u001b[0m\u001b[1;33m:\u001b[0m\u001b[1;33m]\u001b[0m\u001b[1;33m\u001b[0m\u001b[1;33m\u001b[0m\u001b[0m\n\u001b[1;32m--> 225\u001b[1;33m             \u001b[1;32myield\u001b[0m \u001b[1;32mfrom\u001b[0m \u001b[0mself\u001b[0m\u001b[1;33m.\u001b[0m\u001b[0m_plot_args\u001b[0m\u001b[1;33m(\u001b[0m\u001b[0mthis\u001b[0m\u001b[1;33m,\u001b[0m \u001b[0mkwargs\u001b[0m\u001b[1;33m)\u001b[0m\u001b[1;33m\u001b[0m\u001b[1;33m\u001b[0m\u001b[0m\n\u001b[0m\u001b[0;32m    226\u001b[0m \u001b[1;33m\u001b[0m\u001b[0m\n\u001b[0;32m    227\u001b[0m     \u001b[1;32mdef\u001b[0m \u001b[0mget_next_color\u001b[0m\u001b[1;33m(\u001b[0m\u001b[0mself\u001b[0m\u001b[1;33m)\u001b[0m\u001b[1;33m:\u001b[0m\u001b[1;33m\u001b[0m\u001b[1;33m\u001b[0m\u001b[0m\n",
      "\u001b[1;32m~\\anaconda3\\lib\\site-packages\\matplotlib\\axes\\_base.py\u001b[0m in \u001b[0;36m_plot_args\u001b[1;34m(self, tup, kwargs)\u001b[0m\n\u001b[0;32m    389\u001b[0m             \u001b[0mx\u001b[0m\u001b[1;33m,\u001b[0m \u001b[0my\u001b[0m \u001b[1;33m=\u001b[0m \u001b[0mindex_of\u001b[0m\u001b[1;33m(\u001b[0m\u001b[0mtup\u001b[0m\u001b[1;33m[\u001b[0m\u001b[1;33m-\u001b[0m\u001b[1;36m1\u001b[0m\u001b[1;33m]\u001b[0m\u001b[1;33m)\u001b[0m\u001b[1;33m\u001b[0m\u001b[1;33m\u001b[0m\u001b[0m\n\u001b[0;32m    390\u001b[0m \u001b[1;33m\u001b[0m\u001b[0m\n\u001b[1;32m--> 391\u001b[1;33m         \u001b[0mx\u001b[0m\u001b[1;33m,\u001b[0m \u001b[0my\u001b[0m \u001b[1;33m=\u001b[0m \u001b[0mself\u001b[0m\u001b[1;33m.\u001b[0m\u001b[0m_xy_from_xy\u001b[0m\u001b[1;33m(\u001b[0m\u001b[0mx\u001b[0m\u001b[1;33m,\u001b[0m \u001b[0my\u001b[0m\u001b[1;33m)\u001b[0m\u001b[1;33m\u001b[0m\u001b[1;33m\u001b[0m\u001b[0m\n\u001b[0m\u001b[0;32m    392\u001b[0m \u001b[1;33m\u001b[0m\u001b[0m\n\u001b[0;32m    393\u001b[0m         \u001b[1;32mif\u001b[0m \u001b[0mself\u001b[0m\u001b[1;33m.\u001b[0m\u001b[0mcommand\u001b[0m \u001b[1;33m==\u001b[0m \u001b[1;34m'plot'\u001b[0m\u001b[1;33m:\u001b[0m\u001b[1;33m\u001b[0m\u001b[1;33m\u001b[0m\u001b[0m\n",
      "\u001b[1;32m~\\anaconda3\\lib\\site-packages\\matplotlib\\axes\\_base.py\u001b[0m in \u001b[0;36m_xy_from_xy\u001b[1;34m(self, x, y)\u001b[0m\n\u001b[0;32m    268\u001b[0m         \u001b[1;32mif\u001b[0m \u001b[0mx\u001b[0m\u001b[1;33m.\u001b[0m\u001b[0mshape\u001b[0m\u001b[1;33m[\u001b[0m\u001b[1;36m0\u001b[0m\u001b[1;33m]\u001b[0m \u001b[1;33m!=\u001b[0m \u001b[0my\u001b[0m\u001b[1;33m.\u001b[0m\u001b[0mshape\u001b[0m\u001b[1;33m[\u001b[0m\u001b[1;36m0\u001b[0m\u001b[1;33m]\u001b[0m\u001b[1;33m:\u001b[0m\u001b[1;33m\u001b[0m\u001b[1;33m\u001b[0m\u001b[0m\n\u001b[0;32m    269\u001b[0m             raise ValueError(\"x and y must have same first dimension, but \"\n\u001b[1;32m--> 270\u001b[1;33m                              \"have shapes {} and {}\".format(x.shape, y.shape))\n\u001b[0m\u001b[0;32m    271\u001b[0m         \u001b[1;32mif\u001b[0m \u001b[0mx\u001b[0m\u001b[1;33m.\u001b[0m\u001b[0mndim\u001b[0m \u001b[1;33m>\u001b[0m \u001b[1;36m2\u001b[0m \u001b[1;32mor\u001b[0m \u001b[0my\u001b[0m\u001b[1;33m.\u001b[0m\u001b[0mndim\u001b[0m \u001b[1;33m>\u001b[0m \u001b[1;36m2\u001b[0m\u001b[1;33m:\u001b[0m\u001b[1;33m\u001b[0m\u001b[1;33m\u001b[0m\u001b[0m\n\u001b[0;32m    272\u001b[0m             raise ValueError(\"x and y can be no greater than 2-D, but have \"\n",
      "\u001b[1;31mValueError\u001b[0m: x and y must have same first dimension, but have shapes (697,) and (695,)"
     ]
    },
    {
     "data": {
      "image/png": "[encoded data removed]",
      "text/plain": [
       "<Figure size 1440x360 with 1 Axes>"
      ]
     },
     "metadata": {
      "needs_background": "light"
     },
     "output_type": "display_data"
    }
   ],
   "source": [
    "sample_range = pd.date_range(start='9/1/1960', end='9/1/2018', freq='MS')\n",
    "\n",
    "plt.figure(figsize=(20,5))\n",
    "plt.plot(sample_range.to_series().values, prob_predictions[:,0])\n",
    "for i in range(len(rec_spans)):\n",
    "    plt.axvspan(rec_spans[i][0], rec_spans[i][len(rec_spans[i]) - 1], alpha=0.25, color='grey')\n",
    "plt.axhline(y=0.5, color='r', ls='dashed', alpha = 0.5)\n",
    "plt.title('Recession Prediction Probabalities with Regularized Logistic Regression')\n",
    "mp.savefig('plot2.png',  bbox_inches='tight')\n",
    "plt.show()"
   ]
  },
  {
   "cell_type": "markdown",
   "metadata": {},
   "source": [
    "### XGBoosting"
   ]
  },
  {
   "cell_type": "code",
   "execution_count": null,
   "metadata": {},
   "outputs": [],
   "source": [
    "xgboost = model_selection.GridSearchCV(estimator=xgb.XGBClassifier(),\n",
    "                                       param_grid={'booster': ['gbtree'],\n",
    "                                                  'max_depth':[2,3,5,10],\n",
    "                                                  'learning_rate':[0.01,0.1,1]},\n",
    "                                       scoring=scoring, cv=kfold).fit(df_training_features, \n",
    "                                                                      lb.fit_transform(df_training_targets)).best_estimator_\n",
    "xgboost.fit(df_training_features, df_training_targets)\n",
    "\n"
   ]
  },
  {
   "cell_type": "code",
   "execution_count": null,
   "metadata": {},
   "outputs": [],
   "source": [
    "prob_predictions = xgboost.predict_proba(df_training_features)\n",
    "prob_predictions = np.append(prob_predictions, xgboost.predict_proba(df_validation_features), axis=0)"
   ]
  },
  {
   "cell_type": "code",
   "execution_count": null,
   "metadata": {},
   "outputs": [],
   "source": [
    "sample_range = pd.date_range(start='9/1/1960', end='9/1/2018', freq='MS')\n",
    "\n",
    "plt.figure(figsize=(20,5))\n",
    "plt.plot(sample_range.to_series().values, prob_predictions[:,0])\n",
    "for i in range(len(rec_spans)):\n",
    "    plt.axvspan(rec_spans[i][0], rec_spans[i][len(rec_spans[i]) - 1], alpha=0.25, color='grey')\n",
    "plt.axhline(y=0.5, color='r', ls='dashed', alpha = 0.5)\n",
    "plt.title('Recession Prediction Probabalities with XGBoost')\n",
    "mp.savefig('plot3.png',  bbox_inches='tight')\n",
    "plt.show()"
   ]
  },
  {
   "cell_type": "code",
   "execution_count": null,
   "metadata": {},
   "outputs": [],
   "source": [
    "# find feature importances\n",
    "headers = df.drop(['Regime','Label', 'Date'], axis=1).columns.values.tolist()\n",
    "xgboost_importances = pd.DataFrame(xgboost.feature_importances_, index = headers, columns = ['Relative Importance'])\n",
    "_ = xgboost_importances.sort_values(by = ['Relative Importance'], ascending = False, inplace=True)\n",
    "xgboost_importances = xgboost_importances[xgboost_importances['Relative Importance']>0].iloc[:20]\n",
    "\n",
    "# display importances in bar-chart and pie-chart\n",
    "fig = plt.figure(figsize=(6,6))\n",
    "plt.xticks(rotation='90')\n",
    "plt.barh(y=np.arange(len(xgboost_importances)), width=xgboost_importances['Relative Importance'], align='center', tick_label=xgboost_importances.index)\n",
    "plt.gca().invert_yaxis()\n",
    "mp.savefig('feature_importance.png',  bbox_inches='tight')\n",
    "plt.show()"
   ]
  },
  {
   "cell_type": "code",
   "execution_count": null,
   "metadata": {},
   "outputs": [],
   "source": [
    "fpr, tpr, thresholds = metrics.roc_curve(df_validation_targets, LR.predict_proba(df_validation_features)[:,1])\n",
    "auc = metrics.roc_auc_score(df_validation_targets,LR.predict(df_validation_features))\n",
    "plt.plot(fpr, tpr, label='%s ROC (area = %0.2f)' % ('LR', auc))\n",
    "\n",
    "fpr, tpr, thresholds = metrics.roc_curve(df_validation_targets, LR_penalty.predict_proba(df_validation_features)[:,1])\n",
    "auc = metrics.roc_auc_score(df_validation_targets,LR_penalty.predict(df_validation_features))\n",
    "plt.plot(fpr, tpr, label='%s ROC (area = %0.2f)' % ('LR_penalty', auc))\n",
    "\n",
    "fpr, tpr, thresholds = metrics.roc_curve(df_validation_targets, xgboost.predict_proba(df_validation_features)[:,1])\n",
    "auc = metrics.roc_auc_score(df_validation_targets,xgboost.predict(df_validation_features))\n",
    "plt.plot(fpr, tpr, label='%s ROC (area = %0.2f)' % ('XGBoost', auc))\n",
    "\n",
    "plt.plot([0, 1], [0, 1],'r--')\n",
    "plt.xlim([-0.05, 1.0])\n",
    "plt.ylim([0.0, 1.05])\n",
    "plt.xlabel('1-Specificity(False Positive Rate)')\n",
    "plt.ylabel('Sensitivity(True Positive Rate)')\n",
    "plt.title('Receiver Operating Characteristic (Validation Data)')\n",
    "plt.legend(loc='center left', bbox_to_anchor=(1, 0.5))\n",
    "mp.savefig('ROC1.png',  bbox_inches='tight')\n",
    "plt.show() "
   ]
  },
  {
   "cell_type": "code",
   "execution_count": null,
   "metadata": {},
   "outputs": [],
   "source": [
    "fpr, tpr, thresholds = metrics.roc_curve(df_targets, LR.predict_proba(df_features)[:,1])\n",
    "auc = metrics.roc_auc_score(df_targets,LR.predict(df_features))\n",
    "plt.plot(fpr, tpr, label='%s ROC (area = %0.2f)' % ('LR', auc))\n",
    "\n",
    "\n",
    "fpr, tpr, thresholds = metrics.roc_curve(df_targets, LR_penalty.predict_proba(df_features)[:,1])\n",
    "auc = metrics.roc_auc_score(df_targets,LR_penalty.predict(df_features))\n",
    "plt.plot(fpr, tpr, label='%s ROC (area = %0.2f)' % ('LR_penalty', auc))\n",
    "\n",
    "fpr, tpr, thresholds = metrics.roc_curve(df_targets, xgboost.predict_proba(df_features)[:,1])\n",
    "auc = metrics.roc_auc_score(df_targets,xgboost.predict(df_features))\n",
    "plt.plot(fpr, tpr, label='%s ROC (area = %0.2f)' % ('XGBoost', auc))\n",
    "\n",
    "plt.plot([0, 1], [0, 1],'r--')\n",
    "plt.xlim([-0.05, 1.0])\n",
    "plt.ylim([0.0, 1.05])\n",
    "plt.xlabel('1-Specificity(True Negative Rate)')\n",
    "plt.ylabel('Sensitivity(True Positive Rate)')\n",
    "plt.title('Receiver Operating Characteristic (Whole period)')\n",
    "plt.legend(loc='center left', bbox_to_anchor=(1, 0.5))\n",
    "mp.savefig('ROC2.png',  bbox_inches='tight')\n",
    "plt.show() "
   ]
  },
  {
   "cell_type": "code",
   "execution_count": null,
   "metadata": {},
   "outputs": [],
   "source": []
  }
 ],
 "metadata": {
  "kernelspec": {
   "display_name": "Python 3",
   "language": "python",
   "name": "python3"
  },
  "language_info": {
   "codemirror_mode": {
    "name": "ipython",
    "version": 3
   },
   "file_extension": ".py",
   "mimetype": "text/x-python",
   "name": "python",
   "nbconvert_exporter": "python",
   "pygments_lexer": "ipython3",
   "version": "3.7.6"
  }
 },
 "nbformat": 4,
 "nbformat_minor": 4
}
