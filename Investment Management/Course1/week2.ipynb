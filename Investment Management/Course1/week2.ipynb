{
 "cells": [
  {
   "cell_type": "code",
   "execution_count": 1,
   "metadata": {},
   "outputs": [],
   "source": [
    "import pandas as pd"
   ]
  },
  {
   "cell_type": "code",
   "execution_count": 1,
   "metadata": {},
   "outputs": [
    {
     "ename": "NameError",
     "evalue": "name 'pd' is not defined",
     "output_type": "error",
     "traceback": [
      "\u001b[1;31m---------------------------------------------------------------------------\u001b[0m",
      "\u001b[1;31mNameError\u001b[0m                                 Traceback (most recent call last)",
      "\u001b[1;32m<ipython-input-1-8660c5f2853d>\u001b[0m in \u001b[0;36m<module>\u001b[1;34m\u001b[0m\n\u001b[1;32m----> 1\u001b[1;33m \u001b[0mdf_fonds\u001b[0m \u001b[1;33m=\u001b[0m \u001b[0mpd\u001b[0m\u001b[1;33m.\u001b[0m\u001b[0mread_csv\u001b[0m\u001b[1;33m(\u001b[0m\u001b[1;34m\"data/edhec-hedgefundindices.csv\"\u001b[0m\u001b[1;33m,\u001b[0m \u001b[0mheader\u001b[0m \u001b[1;33m=\u001b[0m \u001b[1;36m0\u001b[0m\u001b[1;33m,\u001b[0m \u001b[0mindex_col\u001b[0m \u001b[1;33m=\u001b[0m \u001b[1;36m0\u001b[0m\u001b[1;33m,\u001b[0m \u001b[0mparse_dates\u001b[0m \u001b[1;33m=\u001b[0m \u001b[1;32mTrue\u001b[0m\u001b[1;33m)\u001b[0m\u001b[1;33m\u001b[0m\u001b[1;33m\u001b[0m\u001b[0m\n\u001b[0m",
      "\u001b[1;31mNameError\u001b[0m: name 'pd' is not defined"
     ]
    }
   ],
   "source": [
    "df_fonds = pd.read_csv(\"data/edhec-hedgefundindices.csv\", header = 0, index_col = 0, parse_dates = True)"
   ]
  },
  {
   "cell_type": "code",
   "execution_count": 3,
   "metadata": {},
   "outputs": [],
   "source": [
    "df_fonds.index = pd.to_datetime(df_fonds.index, format = \"%Y%m\").to_period(\"M\")"
   ]
  },
  {
   "cell_type": "code",
   "execution_count": 4,
   "metadata": {},
   "outputs": [
    {
     "data": {
      "text/html": [
       "<div>\n",
       "<style scoped>\n",
       "    .dataframe tbody tr th:only-of-type {\n",
       "        vertical-align: middle;\n",
       "    }\n",
       "\n",
       "    .dataframe tbody tr th {\n",
       "        vertical-align: top;\n",
       "    }\n",
       "\n",
       "    .dataframe thead th {\n",
       "        text-align: right;\n",
       "    }\n",
       "</style>\n",
       "<table border=\"1\" class=\"dataframe\">\n",
       "  <thead>\n",
       "    <tr style=\"text-align: right;\">\n",
       "      <th></th>\n",
       "      <th>Convertible Arbitrage</th>\n",
       "      <th>CTA Global</th>\n",
       "      <th>Distressed Securities</th>\n",
       "      <th>Emerging Markets</th>\n",
       "      <th>Equity Market Neutral</th>\n",
       "      <th>Event Driven</th>\n",
       "      <th>Fixed Income Arbitrage</th>\n",
       "      <th>Global Macro</th>\n",
       "      <th>Long/Short Equity</th>\n",
       "      <th>Merger Arbitrage</th>\n",
       "      <th>Relative Value</th>\n",
       "      <th>Short Selling</th>\n",
       "      <th>Funds Of Funds</th>\n",
       "    </tr>\n",
       "    <tr>\n",
       "      <th>date</th>\n",
       "      <th></th>\n",
       "      <th></th>\n",
       "      <th></th>\n",
       "      <th></th>\n",
       "      <th></th>\n",
       "      <th></th>\n",
       "      <th></th>\n",
       "      <th></th>\n",
       "      <th></th>\n",
       "      <th></th>\n",
       "      <th></th>\n",
       "      <th></th>\n",
       "      <th></th>\n",
       "    </tr>\n",
       "  </thead>\n",
       "  <tbody>\n",
       "    <tr>\n",
       "      <th>2000-01</th>\n",
       "      <td>2.27</td>\n",
       "      <td>1.28</td>\n",
       "      <td>0.88</td>\n",
       "      <td>0.77</td>\n",
       "      <td>0.75</td>\n",
       "      <td>0.88</td>\n",
       "      <td>0.41</td>\n",
       "      <td>0.21</td>\n",
       "      <td>0.75</td>\n",
       "      <td>1.43</td>\n",
       "      <td>1.73</td>\n",
       "      <td>4.27</td>\n",
       "      <td>1.69</td>\n",
       "    </tr>\n",
       "    <tr>\n",
       "      <th>2000-02</th>\n",
       "      <td>2.67</td>\n",
       "      <td>-0.22</td>\n",
       "      <td>4.21</td>\n",
       "      <td>5.28</td>\n",
       "      <td>2.53</td>\n",
       "      <td>3.46</td>\n",
       "      <td>0.97</td>\n",
       "      <td>4.08</td>\n",
       "      <td>6.99</td>\n",
       "      <td>2.39</td>\n",
       "      <td>1.85</td>\n",
       "      <td>-13.40</td>\n",
       "      <td>6.66</td>\n",
       "    </tr>\n",
       "    <tr>\n",
       "      <th>2000-03</th>\n",
       "      <td>2.43</td>\n",
       "      <td>-1.38</td>\n",
       "      <td>1.03</td>\n",
       "      <td>3.18</td>\n",
       "      <td>1.34</td>\n",
       "      <td>0.69</td>\n",
       "      <td>-0.61</td>\n",
       "      <td>-1.04</td>\n",
       "      <td>0.06</td>\n",
       "      <td>1.31</td>\n",
       "      <td>1.63</td>\n",
       "      <td>-2.30</td>\n",
       "      <td>0.39</td>\n",
       "    </tr>\n",
       "    <tr>\n",
       "      <th>2000-04</th>\n",
       "      <td>2.23</td>\n",
       "      <td>-2.41</td>\n",
       "      <td>-1.01</td>\n",
       "      <td>-5.41</td>\n",
       "      <td>1.68</td>\n",
       "      <td>-0.59</td>\n",
       "      <td>-0.06</td>\n",
       "      <td>-3.04</td>\n",
       "      <td>-2.01</td>\n",
       "      <td>1.88</td>\n",
       "      <td>0.92</td>\n",
       "      <td>10.28</td>\n",
       "      <td>-2.69</td>\n",
       "    </tr>\n",
       "    <tr>\n",
       "      <th>2000-05</th>\n",
       "      <td>1.49</td>\n",
       "      <td>1.14</td>\n",
       "      <td>-1.32</td>\n",
       "      <td>-4.33</td>\n",
       "      <td>0.62</td>\n",
       "      <td>-0.34</td>\n",
       "      <td>1.07</td>\n",
       "      <td>-0.70</td>\n",
       "      <td>-0.97</td>\n",
       "      <td>1.46</td>\n",
       "      <td>0.80</td>\n",
       "      <td>7.04</td>\n",
       "      <td>-1.22</td>\n",
       "    </tr>\n",
       "  </tbody>\n",
       "</table>\n",
       "</div>"
      ],
      "text/plain": [
       "         Convertible Arbitrage  CTA Global  Distressed Securities  \\\n",
       "date                                                                \n",
       "2000-01                   2.27        1.28                   0.88   \n",
       "2000-02                   2.67       -0.22                   4.21   \n",
       "2000-03                   2.43       -1.38                   1.03   \n",
       "2000-04                   2.23       -2.41                  -1.01   \n",
       "2000-05                   1.49        1.14                  -1.32   \n",
       "\n",
       "         Emerging Markets  Equity Market Neutral  Event Driven  \\\n",
       "date                                                             \n",
       "2000-01              0.77                   0.75          0.88   \n",
       "2000-02              5.28                   2.53          3.46   \n",
       "2000-03              3.18                   1.34          0.69   \n",
       "2000-04             -5.41                   1.68         -0.59   \n",
       "2000-05             -4.33                   0.62         -0.34   \n",
       "\n",
       "         Fixed Income Arbitrage  Global Macro  Long/Short Equity  \\\n",
       "date                                                               \n",
       "2000-01                    0.41          0.21               0.75   \n",
       "2000-02                    0.97          4.08               6.99   \n",
       "2000-03                   -0.61         -1.04               0.06   \n",
       "2000-04                   -0.06         -3.04              -2.01   \n",
       "2000-05                    1.07         -0.70              -0.97   \n",
       "\n",
       "         Merger Arbitrage  Relative Value  Short Selling  Funds Of Funds  \n",
       "date                                                                      \n",
       "2000-01              1.43            1.73           4.27            1.69  \n",
       "2000-02              2.39            1.85         -13.40            6.66  \n",
       "2000-03              1.31            1.63          -2.30            0.39  \n",
       "2000-04              1.88            0.92          10.28           -2.69  \n",
       "2000-05              1.46            0.80           7.04           -1.22  "
      ]
     },
     "execution_count": 4,
     "metadata": {},
     "output_type": "execute_result"
    }
   ],
   "source": [
    "df_fonds = df_fonds['2000':]\n",
    "df_fonds.head()"
   ]
  },
  {
   "cell_type": "code",
   "execution_count": 5,
   "metadata": {},
   "outputs": [],
   "source": [
    "from scipy.signal import gaussian"
   ]
  },
  {
   "cell_type": "code",
   "execution_count": 6,
   "metadata": {},
   "outputs": [
    {
     "data": {
      "text/plain": [
       "Convertible Arbitrage      3.484471\n",
       "CTA Global                 5.033613\n",
       "Distressed Securities      3.143018\n",
       "Emerging Markets           5.807041\n",
       "Equity Market Neutral      1.477190\n",
       "Event Driven               3.085309\n",
       "Fixed Income Arbitrage     1.951918\n",
       "Global Macro               2.461907\n",
       "Long/Short Equity          3.942044\n",
       "Merger Arbitrage           1.535518\n",
       "Relative Value             2.160459\n",
       "Short Selling             10.213030\n",
       "Funds Of Funds             2.938540\n",
       "dtype: float64"
      ]
     },
     "execution_count": 6,
     "metadata": {},
     "output_type": "execute_result"
    }
   ],
   "source": [
    "import edhec_risk_kit_111 as erk\n",
    "erk.var_gaussian(df_fonds, 1)"
   ]
  },
  {
   "cell_type": "code",
   "execution_count": 7,
   "metadata": {},
   "outputs": [
    {
     "data": {
      "text/plain": [
       "Convertible Arbitrage     10.366556\n",
       "CTA Global                 4.664321\n",
       "Distressed Securities      4.966909\n",
       "Emerging Markets           8.679551\n",
       "Equity Market Neutral      4.143206\n",
       "Event Driven               4.573181\n",
       "Fixed Income Arbitrage     6.647930\n",
       "Global Macro               2.278564\n",
       "Long/Short Equity          5.138116\n",
       "Merger Arbitrage           2.128243\n",
       "Relative Value             4.898484\n",
       "Short Selling              9.832259\n",
       "Funds Of Funds             4.879303\n",
       "dtype: float64"
      ]
     },
     "execution_count": 7,
     "metadata": {},
     "output_type": "execute_result"
    }
   ],
   "source": [
    "erk.var_gaussian(df_fonds, 1, modified=True)"
   ]
  },
  {
   "cell_type": "code",
   "execution_count": 8,
   "metadata": {},
   "outputs": [
    {
     "data": {
      "text/plain": [
       "Convertible Arbitrage      3.1674\n",
       "CTA Global                 5.0938\n",
       "Distressed Securities      4.2642\n",
       "Emerging Markets           6.5496\n",
       "Equity Market Neutral      1.9800\n",
       "Event Driven               3.8540\n",
       "Fixed Income Arbitrage     3.0748\n",
       "Global Macro               2.2632\n",
       "Long/Short Equity          4.5060\n",
       "Merger Arbitrage           2.2654\n",
       "Relative Value             2.1788\n",
       "Short Selling             10.7684\n",
       "Funds Of Funds             2.7200\n",
       "dtype: float64"
      ]
     },
     "execution_count": 8,
     "metadata": {},
     "output_type": "execute_result"
    }
   ],
   "source": [
    "erk.var_historic(df_fonds, 1)"
   ]
  },
  {
   "cell_type": "code",
   "execution_count": 9,
   "metadata": {},
   "outputs": [],
   "source": [
    "ind = erk.get_ind_returns()"
   ]
  },
  {
   "cell_type": "code",
   "execution_count": 10,
   "metadata": {},
   "outputs": [],
   "source": [
    "df_ind = ind['2013':'2017']"
   ]
  },
  {
   "cell_type": "code",
   "execution_count": 11,
   "metadata": {},
   "outputs": [
    {
     "data": {
      "text/html": [
       "<div>\n",
       "<style scoped>\n",
       "    .dataframe tbody tr th:only-of-type {\n",
       "        vertical-align: middle;\n",
       "    }\n",
       "\n",
       "    .dataframe tbody tr th {\n",
       "        vertical-align: top;\n",
       "    }\n",
       "\n",
       "    .dataframe thead th {\n",
       "        text-align: right;\n",
       "    }\n",
       "</style>\n",
       "<table border=\"1\" class=\"dataframe\">\n",
       "  <thead>\n",
       "    <tr style=\"text-align: right;\">\n",
       "      <th></th>\n",
       "      <th>Food</th>\n",
       "      <th>Beer</th>\n",
       "      <th>Smoke</th>\n",
       "      <th>Games</th>\n",
       "      <th>Books</th>\n",
       "      <th>Hshld</th>\n",
       "      <th>Clths</th>\n",
       "      <th>Hlth</th>\n",
       "      <th>Chems</th>\n",
       "      <th>Txtls</th>\n",
       "      <th>...</th>\n",
       "      <th>Telcm</th>\n",
       "      <th>Servs</th>\n",
       "      <th>BusEq</th>\n",
       "      <th>Paper</th>\n",
       "      <th>Trans</th>\n",
       "      <th>Whlsl</th>\n",
       "      <th>Rtail</th>\n",
       "      <th>Meals</th>\n",
       "      <th>Fin</th>\n",
       "      <th>Other</th>\n",
       "    </tr>\n",
       "  </thead>\n",
       "  <tbody>\n",
       "    <tr>\n",
       "      <th>2013-01</th>\n",
       "      <td>0.0554</td>\n",
       "      <td>0.0507</td>\n",
       "      <td>0.0561</td>\n",
       "      <td>0.1313</td>\n",
       "      <td>0.0513</td>\n",
       "      <td>0.0869</td>\n",
       "      <td>0.0256</td>\n",
       "      <td>0.0807</td>\n",
       "      <td>0.0506</td>\n",
       "      <td>0.0922</td>\n",
       "      <td>...</td>\n",
       "      <td>0.0495</td>\n",
       "      <td>0.0663</td>\n",
       "      <td>-0.0118</td>\n",
       "      <td>0.0561</td>\n",
       "      <td>0.0852</td>\n",
       "      <td>0.0646</td>\n",
       "      <td>0.0541</td>\n",
       "      <td>0.0523</td>\n",
       "      <td>0.0632</td>\n",
       "      <td>0.0720</td>\n",
       "    </tr>\n",
       "    <tr>\n",
       "      <th>2013-02</th>\n",
       "      <td>0.0384</td>\n",
       "      <td>0.0522</td>\n",
       "      <td>0.0221</td>\n",
       "      <td>0.0000</td>\n",
       "      <td>-0.0654</td>\n",
       "      <td>0.0314</td>\n",
       "      <td>0.0146</td>\n",
       "      <td>0.0135</td>\n",
       "      <td>-0.0095</td>\n",
       "      <td>0.0570</td>\n",
       "      <td>...</td>\n",
       "      <td>0.0221</td>\n",
       "      <td>0.0097</td>\n",
       "      <td>0.0026</td>\n",
       "      <td>0.0463</td>\n",
       "      <td>0.0364</td>\n",
       "      <td>0.0207</td>\n",
       "      <td>0.0061</td>\n",
       "      <td>0.0070</td>\n",
       "      <td>0.0129</td>\n",
       "      <td>0.0443</td>\n",
       "    </tr>\n",
       "    <tr>\n",
       "      <th>2013-03</th>\n",
       "      <td>0.0656</td>\n",
       "      <td>0.0531</td>\n",
       "      <td>0.0272</td>\n",
       "      <td>0.0769</td>\n",
       "      <td>0.0778</td>\n",
       "      <td>0.0219</td>\n",
       "      <td>0.0288</td>\n",
       "      <td>0.0651</td>\n",
       "      <td>0.0121</td>\n",
       "      <td>0.0888</td>\n",
       "      <td>...</td>\n",
       "      <td>0.0577</td>\n",
       "      <td>0.0245</td>\n",
       "      <td>0.0319</td>\n",
       "      <td>0.0553</td>\n",
       "      <td>0.0465</td>\n",
       "      <td>0.0325</td>\n",
       "      <td>0.0477</td>\n",
       "      <td>0.0550</td>\n",
       "      <td>0.0453</td>\n",
       "      <td>0.0228</td>\n",
       "    </tr>\n",
       "    <tr>\n",
       "      <th>2013-04</th>\n",
       "      <td>0.0284</td>\n",
       "      <td>0.0355</td>\n",
       "      <td>0.0440</td>\n",
       "      <td>0.0451</td>\n",
       "      <td>-0.0029</td>\n",
       "      <td>0.0135</td>\n",
       "      <td>0.0903</td>\n",
       "      <td>0.0259</td>\n",
       "      <td>0.0396</td>\n",
       "      <td>0.0102</td>\n",
       "      <td>...</td>\n",
       "      <td>0.0420</td>\n",
       "      <td>0.0184</td>\n",
       "      <td>-0.0102</td>\n",
       "      <td>-0.0002</td>\n",
       "      <td>-0.0014</td>\n",
       "      <td>0.0017</td>\n",
       "      <td>0.0320</td>\n",
       "      <td>0.0240</td>\n",
       "      <td>0.0157</td>\n",
       "      <td>0.0074</td>\n",
       "    </tr>\n",
       "    <tr>\n",
       "      <th>2013-05</th>\n",
       "      <td>-0.0345</td>\n",
       "      <td>-0.0147</td>\n",
       "      <td>-0.0298</td>\n",
       "      <td>0.0218</td>\n",
       "      <td>0.0479</td>\n",
       "      <td>-0.0022</td>\n",
       "      <td>0.0078</td>\n",
       "      <td>0.0163</td>\n",
       "      <td>0.0343</td>\n",
       "      <td>0.0077</td>\n",
       "      <td>...</td>\n",
       "      <td>-0.0171</td>\n",
       "      <td>0.0363</td>\n",
       "      <td>0.0551</td>\n",
       "      <td>0.0221</td>\n",
       "      <td>0.0274</td>\n",
       "      <td>0.0385</td>\n",
       "      <td>0.0239</td>\n",
       "      <td>-0.0030</td>\n",
       "      <td>0.0708</td>\n",
       "      <td>0.0590</td>\n",
       "    </tr>\n",
       "  </tbody>\n",
       "</table>\n",
       "<p>5 rows × 30 columns</p>\n",
       "</div>"
      ],
      "text/plain": [
       "           Food    Beer   Smoke   Games   Books   Hshld   Clths    Hlth  \\\n",
       "2013-01  0.0554  0.0507  0.0561  0.1313  0.0513  0.0869  0.0256  0.0807   \n",
       "2013-02  0.0384  0.0522  0.0221  0.0000 -0.0654  0.0314  0.0146  0.0135   \n",
       "2013-03  0.0656  0.0531  0.0272  0.0769  0.0778  0.0219  0.0288  0.0651   \n",
       "2013-04  0.0284  0.0355  0.0440  0.0451 -0.0029  0.0135  0.0903  0.0259   \n",
       "2013-05 -0.0345 -0.0147 -0.0298  0.0218  0.0479 -0.0022  0.0078  0.0163   \n",
       "\n",
       "          Chems   Txtls  ...   Telcm   Servs   BusEq   Paper   Trans   Whlsl  \\\n",
       "2013-01  0.0506  0.0922  ...  0.0495  0.0663 -0.0118  0.0561  0.0852  0.0646   \n",
       "2013-02 -0.0095  0.0570  ...  0.0221  0.0097  0.0026  0.0463  0.0364  0.0207   \n",
       "2013-03  0.0121  0.0888  ...  0.0577  0.0245  0.0319  0.0553  0.0465  0.0325   \n",
       "2013-04  0.0396  0.0102  ...  0.0420  0.0184 -0.0102 -0.0002 -0.0014  0.0017   \n",
       "2013-05  0.0343  0.0077  ... -0.0171  0.0363  0.0551  0.0221  0.0274  0.0385   \n",
       "\n",
       "          Rtail   Meals     Fin   Other  \n",
       "2013-01  0.0541  0.0523  0.0632  0.0720  \n",
       "2013-02  0.0061  0.0070  0.0129  0.0443  \n",
       "2013-03  0.0477  0.0550  0.0453  0.0228  \n",
       "2013-04  0.0320  0.0240  0.0157  0.0074  \n",
       "2013-05  0.0239 -0.0030  0.0708  0.0590  \n",
       "\n",
       "[5 rows x 30 columns]"
      ]
     },
     "execution_count": 11,
     "metadata": {},
     "output_type": "execute_result"
    }
   ],
   "source": [
    "df_ind.head()"
   ]
  },
  {
   "cell_type": "code",
   "execution_count": 12,
   "metadata": {},
   "outputs": [
    {
     "data": {
      "text/html": [
       "<div>\n",
       "<style scoped>\n",
       "    .dataframe tbody tr th:only-of-type {\n",
       "        vertical-align: middle;\n",
       "    }\n",
       "\n",
       "    .dataframe tbody tr th {\n",
       "        vertical-align: top;\n",
       "    }\n",
       "\n",
       "    .dataframe thead th {\n",
       "        text-align: right;\n",
       "    }\n",
       "</style>\n",
       "<table border=\"1\" class=\"dataframe\">\n",
       "  <thead>\n",
       "    <tr style=\"text-align: right;\">\n",
       "      <th></th>\n",
       "      <th>Books</th>\n",
       "      <th>Steel</th>\n",
       "      <th>Oil</th>\n",
       "      <th>Mines</th>\n",
       "    </tr>\n",
       "  </thead>\n",
       "  <tbody>\n",
       "    <tr>\n",
       "      <th>2013-01</th>\n",
       "      <td>0.0513</td>\n",
       "      <td>0.0428</td>\n",
       "      <td>0.0788</td>\n",
       "      <td>0.0059</td>\n",
       "    </tr>\n",
       "    <tr>\n",
       "      <th>2013-02</th>\n",
       "      <td>-0.0654</td>\n",
       "      <td>-0.0268</td>\n",
       "      <td>0.0052</td>\n",
       "      <td>-0.0756</td>\n",
       "    </tr>\n",
       "    <tr>\n",
       "      <th>2013-03</th>\n",
       "      <td>0.0778</td>\n",
       "      <td>0.0210</td>\n",
       "      <td>0.0209</td>\n",
       "      <td>0.0091</td>\n",
       "    </tr>\n",
       "    <tr>\n",
       "      <th>2013-04</th>\n",
       "      <td>-0.0029</td>\n",
       "      <td>-0.0441</td>\n",
       "      <td>-0.0129</td>\n",
       "      <td>-0.1057</td>\n",
       "    </tr>\n",
       "    <tr>\n",
       "      <th>2013-05</th>\n",
       "      <td>0.0479</td>\n",
       "      <td>0.0384</td>\n",
       "      <td>0.0307</td>\n",
       "      <td>0.0022</td>\n",
       "    </tr>\n",
       "  </tbody>\n",
       "</table>\n",
       "</div>"
      ],
      "text/plain": [
       "          Books   Steel     Oil   Mines\n",
       "2013-01  0.0513  0.0428  0.0788  0.0059\n",
       "2013-02 -0.0654 -0.0268  0.0052 -0.0756\n",
       "2013-03  0.0778  0.0210  0.0209  0.0091\n",
       "2013-04 -0.0029 -0.0441 -0.0129 -0.1057\n",
       "2013-05  0.0479  0.0384  0.0307  0.0022"
      ]
     },
     "execution_count": 12,
     "metadata": {},
     "output_type": "execute_result"
    }
   ],
   "source": [
    "col = ['Books', 'Steel', 'Oil', 'Mines']\n",
    "df_ind = df_ind[col]\n",
    "df_ind.head()"
   ]
  },
  {
   "cell_type": "code",
   "execution_count": 13,
   "metadata": {},
   "outputs": [],
   "source": [
    "er = erk.annualize_rets(df_ind, 12)\n",
    "cov = df_ind.cov()"
   ]
  },
  {
   "cell_type": "code",
   "execution_count": 14,
   "metadata": {},
   "outputs": [
    {
     "data": {
      "text/plain": [
       "Books    0.095312\n",
       "Steel    0.100716\n",
       "Oil      0.025275\n",
       "Mines    0.005136\n",
       "dtype: float64"
      ]
     },
     "execution_count": 14,
     "metadata": {},
     "output_type": "execute_result"
    }
   ],
   "source": [
    "er"
   ]
  },
  {
   "cell_type": "code",
   "execution_count": 15,
   "metadata": {},
   "outputs": [
    {
     "data": {
      "text/html": [
       "<div>\n",
       "<style scoped>\n",
       "    .dataframe tbody tr th:only-of-type {\n",
       "        vertical-align: middle;\n",
       "    }\n",
       "\n",
       "    .dataframe tbody tr th {\n",
       "        vertical-align: top;\n",
       "    }\n",
       "\n",
       "    .dataframe thead th {\n",
       "        text-align: right;\n",
       "    }\n",
       "</style>\n",
       "<table border=\"1\" class=\"dataframe\">\n",
       "  <thead>\n",
       "    <tr style=\"text-align: right;\">\n",
       "      <th></th>\n",
       "      <th>Books</th>\n",
       "      <th>Steel</th>\n",
       "      <th>Oil</th>\n",
       "      <th>Mines</th>\n",
       "    </tr>\n",
       "  </thead>\n",
       "  <tbody>\n",
       "    <tr>\n",
       "      <th>Books</th>\n",
       "      <td>0.002720</td>\n",
       "      <td>0.001940</td>\n",
       "      <td>0.001637</td>\n",
       "      <td>0.001539</td>\n",
       "    </tr>\n",
       "    <tr>\n",
       "      <th>Steel</th>\n",
       "      <td>0.001940</td>\n",
       "      <td>0.004391</td>\n",
       "      <td>0.002122</td>\n",
       "      <td>0.003391</td>\n",
       "    </tr>\n",
       "    <tr>\n",
       "      <th>Oil</th>\n",
       "      <td>0.001637</td>\n",
       "      <td>0.002122</td>\n",
       "      <td>0.002697</td>\n",
       "      <td>0.002179</td>\n",
       "    </tr>\n",
       "    <tr>\n",
       "      <th>Mines</th>\n",
       "      <td>0.001539</td>\n",
       "      <td>0.003391</td>\n",
       "      <td>0.002179</td>\n",
       "      <td>0.005232</td>\n",
       "    </tr>\n",
       "  </tbody>\n",
       "</table>\n",
       "</div>"
      ],
      "text/plain": [
       "          Books     Steel       Oil     Mines\n",
       "Books  0.002720  0.001940  0.001637  0.001539\n",
       "Steel  0.001940  0.004391  0.002122  0.003391\n",
       "Oil    0.001637  0.002122  0.002697  0.002179\n",
       "Mines  0.001539  0.003391  0.002179  0.005232"
      ]
     },
     "execution_count": 15,
     "metadata": {},
     "output_type": "execute_result"
    }
   ],
   "source": [
    "cov"
   ]
  },
  {
   "cell_type": "code",
   "execution_count": 16,
   "metadata": {},
   "outputs": [
    {
     "name": "stdout",
     "output_type": "stream",
     "text": [
      "0.0\n",
      "100.0\n",
      "0.0\n",
      "0.0\n"
     ]
    }
   ],
   "source": [
    "msr = erk.msr(0.1, er, cov)\n",
    "for i in msr:\n",
    "    i = round(i * 100, 2)\n",
    "    print (i)"
   ]
  },
  {
   "cell_type": "code",
   "execution_count": 17,
   "metadata": {},
   "outputs": [
    {
     "data": {
      "image/png": "[encoded data removed]",
      "text/plain": [
       "<Figure size 432x288 with 1 Axes>"
      ]
     },
     "metadata": {
      "needs_background": "light"
     },
     "output_type": "display_data"
    }
   ],
   "source": [
    "erk.plot_ef(20, er, cov, show_cml=True, riskfree_rate=0.1)"
   ]
  },
  {
   "cell_type": "code",
   "execution_count": 18,
   "metadata": {},
   "outputs": [
    {
     "data": {
      "text/plain": [
       "<matplotlib.axes._subplots.AxesSubplot at 0x2503ce18648>"
      ]
     },
     "execution_count": 18,
     "metadata": {},
     "output_type": "execute_result"
    },
    {
     "data": {
      "image/png": "[encoded data removed]",
      "text/plain": [
       "<Figure size 432x288 with 1 Axes>"
      ]
     },
     "metadata": {
      "needs_background": "light"
     },
     "output_type": "display_data"
    }
   ],
   "source": [
    "erk.plot_ef(20, er, cov, show_cml=True, riskfree_rate=0.1, show_ew=True, show_gmv=True)"
   ]
  },
  {
   "cell_type": "code",
   "execution_count": 19,
   "metadata": {},
   "outputs": [
    {
     "name": "stdout",
     "output_type": "stream",
     "text": [
      "47.7\n",
      "0.0\n",
      "43.41\n",
      "8.89\n"
     ]
    }
   ],
   "source": [
    "gmv = erk.gmv(cov)\n",
    "for i in gmv:\n",
    "    i = round(i * 100, 2)\n",
    "    print (i)"
   ]
  },
  {
   "cell_type": "code",
   "execution_count": 20,
   "metadata": {},
   "outputs": [
    {
     "data": {
      "text/plain": [
       "21.9839881814842"
      ]
     },
     "execution_count": 20,
     "metadata": {},
     "output_type": "execute_result"
    }
   ],
   "source": [
    "import math\n",
    "cov_18 = ind[\"2018\"][col].cov()\n",
    "erk.portfolio_vol(msr, cov_18)*(math.sqrt(12))*100"
   ]
  },
  {
   "cell_type": "code",
   "execution_count": 21,
   "metadata": {},
   "outputs": [
    {
     "data": {
      "text/plain": [
       "18.973734411213325"
      ]
     },
     "execution_count": 21,
     "metadata": {},
     "output_type": "execute_result"
    }
   ],
   "source": [
    "erk.portfolio_vol(gmv, cov_18)*(math.sqrt(12))*100"
   ]
  }
 ],
 "metadata": {
  "kernelspec": {
   "display_name": "Python 3",
   "language": "python",
   "name": "python3"
  },
  "language_info": {
   "codemirror_mode": {
    "name": "ipython",
    "version": 3
   },
   "file_extension": ".py",
   "mimetype": "text/x-python",
   "name": "python",
   "nbconvert_exporter": "python",
   "pygments_lexer": "ipython3",
   "version": "3.7.6"
  }
 },
 "nbformat": 4,
 "nbformat_minor": 4
}
