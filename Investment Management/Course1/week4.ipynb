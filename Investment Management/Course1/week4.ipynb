{
 "cells": [
  {
   "cell_type": "code",
   "execution_count": 1,
   "metadata": {},
   "outputs": [],
   "source": [
    "import numpy as np\n",
    "import pandas as pd\n",
    "import edhec_risk_kit_129 as erk\n",
    "import matplotlib.pyplot as plt\n",
    "import seaborn as sns\n",
    "\n",
    "%matplotlib inline\n",
    "%load_ext autoreload\n",
    "%autoreload 2\n"
   ]
  },
  {
   "cell_type": "code",
   "execution_count": 20,
   "metadata": {},
   "outputs": [],
   "source": [
    "coupons_per_year = 2\n",
    "flows_15 = erk.bond_cash_flows(15, 1000, 0.05, coupons_per_year)\n",
    "price_15 = erk.bond_price(15, 1000, 0.05, coupons_per_year, discount_rate=0.05)\n",
    "duarion_15 = erk.macaulay_duration(flows_15, 0.05/coupons_per_year)/coupons_per_year\n",
    "coupons_per_year = 4\n",
    "flows_5 = erk.bond_cash_flows(5, 1000, 0.06, coupons_per_year)\n",
    "price_5 = erk.bond_price(5, 1000, 0.06, coupons_per_year, discount_rate=0.05)\n",
    "duarion_5 = erk.macaulay_duration(flows_5, 0.06/coupons_per_year)/coupons_per_year\n",
    "coupons_per_year = 1\n",
    "flows_10 = erk.bond_cash_flows(10, 1000, 0.0, coupons_per_year)\n",
    "duarion_10 = erk.macaulay_duration(flows_10, 0.05/coupons_per_year)/coupons_per_year\n",
    "price_10 = erk.bond_price(10, 1000, 0, coupons_per_year, discount_rate=0.05)\n",
    "stat = pd.DataFrame(data = {'price': [price_15, price_5, price_10], \n",
    "              'duration' : [duarion_15, duarion_5, duarion_10]},\n",
    "             index = ['B1', 'B2', 'B3'])"
   ]
  },
  {
   "cell_type": "code",
   "execution_count": 3,
   "metadata": {},
   "outputs": [
    {
     "data": {
      "text/html": [
       "<div>\n",
       "<style scoped>\n",
       "    .dataframe tbody tr th:only-of-type {\n",
       "        vertical-align: middle;\n",
       "    }\n",
       "\n",
       "    .dataframe tbody tr th {\n",
       "        vertical-align: top;\n",
       "    }\n",
       "\n",
       "    .dataframe thead th {\n",
       "        text-align: right;\n",
       "    }\n",
       "</style>\n",
       "<table border=\"1\" class=\"dataframe\">\n",
       "  <thead>\n",
       "    <tr style=\"text-align: right;\">\n",
       "      <th></th>\n",
       "      <th>price</th>\n",
       "      <th>duration</th>\n",
       "    </tr>\n",
       "  </thead>\n",
       "  <tbody>\n",
       "    <tr>\n",
       "      <th>B1</th>\n",
       "      <td>0    1000.0\n",
       "dtype: float64</td>\n",
       "      <td>10.726775</td>\n",
       "    </tr>\n",
       "    <tr>\n",
       "      <th>B2</th>\n",
       "      <td>0    1043.99829\n",
       "dtype: float64</td>\n",
       "      <td>4.356542</td>\n",
       "    </tr>\n",
       "    <tr>\n",
       "      <th>B3</th>\n",
       "      <td>0    613.913254\n",
       "dtype: float64</td>\n",
       "      <td>10.000000</td>\n",
       "    </tr>\n",
       "  </tbody>\n",
       "</table>\n",
       "</div>"
      ],
      "text/plain": [
       "                             price   duration\n",
       "B1      0    1000.0\n",
       "dtype: float64  10.726775\n",
       "B2  0    1043.99829\n",
       "dtype: float64   4.356542\n",
       "B3  0    613.913254\n",
       "dtype: float64  10.000000"
      ]
     },
     "execution_count": 3,
     "metadata": {},
     "output_type": "execute_result"
    }
   ],
   "source": [
    "stat"
   ]
  },
  {
   "cell_type": "code",
   "execution_count": 42,
   "metadata": {},
   "outputs": [
    {
     "data": {
      "text/plain": [
       "6.750917852744651"
      ]
     },
     "execution_count": 42,
     "metadata": {},
     "output_type": "execute_result"
    }
   ],
   "source": [
    "liabs = pd.Series(data=[100000, 200000, 300000], index=[3, 5, 10])\n",
    "erk.macaulay_duration(liabs, 0.05/1)/1"
   ]
  },
  {
   "cell_type": "code",
   "execution_count": 22,
   "metadata": {},
   "outputs": [],
   "source": [
    "b1 = flows_15\n",
    "b1.index = b1.index/2\n",
    "b2 = flows_5\n",
    "b2.index = b2.index/4\n",
    "ws = erk.match_durations(liabs, b1, b2, 0.05)"
   ]
  },
  {
   "cell_type": "code",
   "execution_count": 43,
   "metadata": {},
   "outputs": [
    {
     "data": {
      "text/plain": [
       "62.68461482197243"
      ]
     },
     "execution_count": 43,
     "metadata": {},
     "output_type": "execute_result"
    }
   ],
   "source": [
    "(1 - ws)*100"
   ]
  },
  {
   "cell_type": "code",
   "execution_count": 7,
   "metadata": {},
   "outputs": [],
   "source": [
    "liabs = pd.Series(data=[100000, 200000, 300000], index=[3, 5, 10])\n",
    "\n",
    "b3 = flows_10\n",
    "b2 = flows_5\n",
    "ws2 = erk.match_durations(liabs, b2, b3, 0.05)"
   ]
  },
  {
   "cell_type": "code",
   "execution_count": 25,
   "metadata": {},
   "outputs": [
    {
     "data": {
      "text/plain": [
       "57.76019774818993"
      ]
     },
     "execution_count": 25,
     "metadata": {},
     "output_type": "execute_result"
    }
   ],
   "source": [
    "ws2*100"
   ]
  }
 ],
 "metadata": {
  "kernelspec": {
   "display_name": "Python 3",
   "language": "python",
   "name": "python3"
  },
  "language_info": {
   "codemirror_mode": {
    "name": "ipython",
    "version": 3
   },
   "file_extension": ".py",
   "mimetype": "text/x-python",
   "name": "python",
   "nbconvert_exporter": "python",
   "pygments_lexer": "ipython3",
   "version": "3.7.6"
  }
 },
 "nbformat": 4,
 "nbformat_minor": 4
}
