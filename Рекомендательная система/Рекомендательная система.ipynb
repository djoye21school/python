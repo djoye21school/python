{
 "cells": [
  {
   "cell_type": "code",
   "execution_count": 1,
   "metadata": {},
   "outputs": [],
   "source": [
    "import pandas as pd\n",
    "import numpy as np\n",
    "\n",
    "from collections import Counter"
   ]
  },
  {
   "cell_type": "code",
   "execution_count": 2,
   "metadata": {},
   "outputs": [],
   "source": [
    "def read_file(file):\n",
    "    data = []\n",
    "    with open(file, 'rt') as f:\n",
    "        for line in f.readlines():\n",
    "            view, buy = line.strip().split(';')  \n",
    "            if len(buy) > 0:\n",
    "                view = view.split(',')\n",
    "                buy = buy.split(',')\n",
    "                data.append((view,buy))\n",
    "    return data"
   ]
  },
  {
   "cell_type": "code",
   "execution_count": 3,
   "metadata": {},
   "outputs": [],
   "source": [
    "train_data = read_file('coursera_sessions_train.txt')\n",
    "test_data = read_file('coursera_sessions_test.txt')"
   ]
  },
  {
   "cell_type": "code",
   "execution_count": 4,
   "metadata": {},
   "outputs": [],
   "source": [
    "def freq_file(file):\n",
    "    view_count = Counter()\n",
    "    buy_count = Counter()\n",
    "    with open(file, 'rt') as f:\n",
    "        for line in f.readlines():\n",
    "            view, buy = line.strip().split(';')\n",
    "            view = view.split(',')\n",
    "            buy = buy.split(',')\n",
    "            for item in view:\n",
    "                view_count[item] += 1\n",
    "            for item in buy:\n",
    "                buy_count[item] += 1\n",
    "    return view_count, buy_count"
   ]
  },
  {
   "cell_type": "code",
   "execution_count": 5,
   "metadata": {},
   "outputs": [],
   "source": [
    "view_count, buy_count = freq_file('coursera_sessions_train.txt')"
   ]
  },
  {
   "cell_type": "code",
   "execution_count": 6,
   "metadata": {},
   "outputs": [],
   "source": [
    "def precision(predict, buy, k):\n",
    "    rb = [x for x in buy if x in predict]\n",
    "    return len(rb)/float(k)"
   ]
  },
  {
   "cell_type": "code",
   "execution_count": 7,
   "metadata": {},
   "outputs": [],
   "source": [
    "def recall(predict, buy):\n",
    "    rb = [x for x in buy if x in predict]\n",
    "    return len(rb)/float(len(buy))"
   ]
  },
  {
   "cell_type": "code",
   "execution_count": 8,
   "metadata": {},
   "outputs": [],
   "source": [
    "def predict(viewed, k, method='pop'):\n",
    "    k = min(len(viewed), k)\n",
    "    unique = np.array(viewed)[np.sort(np.unique(viewed, return_index=True)[1])]\n",
    "    arr = [-view_count[item] if method == 'view' else -buy_count[item] for item in unique]\n",
    "    sort = np.argsort(arr)\n",
    "    return list(unique[sort])[0:k]"
   ]
  },
  {
   "cell_type": "code",
   "execution_count": 9,
   "metadata": {},
   "outputs": [],
   "source": [
    "def get_stats(data, method):\n",
    "    ar1 = np.mean([recall(predict(user[0], 1, method), user[1]) for user in data])\n",
    "    ap1 = np.mean([precision(predict(user[0], 1, method), user[1], 1) for user in data])\n",
    "    ar5 = np.mean([recall(predict(user[0], 5, method), user[1]) for user in data])\n",
    "    ap5 = np.mean([precision(predict(user[0], 5, method), user[1], 5) for user in data])\n",
    "    return round(ar1, 2), round(ap1,2), round(ar5, 2), round(ap5, 2)"
   ]
  },
  {
   "cell_type": "code",
   "execution_count": 10,
   "metadata": {},
   "outputs": [
    {
     "name": "stdout",
     "output_type": "stream",
     "text": [
      "(0.44, 0.51, 0.82, 0.21)\n",
      "(0.42, 0.48, 0.8, 0.2)\n",
      "(0.69, 0.8, 0.93, 0.25)\n",
      "(0.46, 0.53, 0.82, 0.21)\n"
     ]
    }
   ],
   "source": [
    "print(get_stats(train_data, 'view'))\n",
    "print(get_stats(test_data, 'view'))\n",
    "print(get_stats(train_data, 'buy'))\n",
    "print(get_stats(test_data, 'buy'))"
   ]
  }
 ],
 "metadata": {
  "kernelspec": {
   "display_name": "Python 3",
   "language": "python",
   "name": "python3"
  },
  "language_info": {
   "codemirror_mode": {
    "name": "ipython",
    "version": 3
   },
   "file_extension": ".py",
   "mimetype": "text/x-python",
   "name": "python",
   "nbconvert_exporter": "python",
   "pygments_lexer": "ipython3",
   "version": "3.7.6"
  }
 },
 "nbformat": 4,
 "nbformat_minor": 4
}
