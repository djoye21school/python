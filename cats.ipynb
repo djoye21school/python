{
 "cells": [
  {
   "cell_type": "markdown",
   "metadata": {},
   "source": [
    "Выполните следующие шаги:\n",
    "\n",
    "Скачайте файл с предложениями (sentences.txt).\n",
    "\n",
    "Каждая строка в файле соответствует одному предложению. Считайте их, приведите каждую к нижнему регистру с помощью строковой функции lower().\n",
    "\n",
    "Произведите токенизацию, то есть разбиение текстов на слова. Для этого можно воспользоваться регулярным выражением, которое считает разделителем любой символ, не являющийся буквой: re.split('[^a-z]', t). Не забудьте удалить пустые слова после разделения.\n",
    "\n",
    "Составьте список всех слов, встречающихся в предложениях. Сопоставьте каждому слову индекс от нуля до (d - 1), где d — число различных слов в предложениях. Для этого удобно воспользоваться структурой dict.\n",
    "\n",
    "Создайте матрицу размера n * d, где n — число предложений. Заполните ее: элемент с индексом (i, j) в этой матрице должен быть равен количеству вхождений j-го слова в i-е предложение. У вас должна получиться матрица размера 22 * 254.\n",
    "\n",
    "Найдите косинусное расстояние от предложения в самой первой строке (In comparison to dogs, cats have not undergone...) до всех остальных с помощью функции scipy.spatial.distance.cosine. Какие номера у двух предложений, ближайших к нему по этому расстоянию (строки нумеруются с нуля)? Эти два числа и будут ответами на задание. Само предложение (In comparison to dogs, cats have not undergone... ) имеет индекс 0.\n",
    "\n",
    "Запишите полученные числа в файл, разделив пробелом. Обратите внимание, что файл должен состоять из одной строки, в конце которой не должно быть переноса. Пример файла с решением вы можете найти в конце задания (submission-1.txt).\n",
    "\n",
    "Совпадают ли ближайшие два предложения по тематике с первым? Совпадают ли тематики у следующих по близости предложений?"
   ]
  },
  {
   "cell_type": "code",
   "execution_count": 415,
   "metadata": {},
   "outputs": [
    {
     "name": "stdout",
     "output_type": "stream",
     "text": [
      "6 0.7327387580875756\n",
      "4 0.7770887149698589\n"
     ]
    }
   ],
   "source": [
    "import re\n",
    "from scipy.spatial import distance\n",
    "import numpy as np\n",
    "\n",
    "file = open('C:/Users/kruzh/Downloads/sentences.txt', 'r')\n",
    "str = file.read().lower()\n",
    "arr = re.split('[^a-z]', str)\n",
    "line = str.split('\\n')\n",
    "arr = [x for x in arr if x]\n",
    "words = {}\n",
    "num = 0\n",
    "for word in arr:\n",
    "    if word not in words:\n",
    "        words[word] = num\n",
    "        num += 1\n",
    "\n",
    "for j in range(len(line)):\n",
    "    i = 0\n",
    "    for word in words:\n",
    "        matrix[j][i] = 0;\n",
    "        for w in re.split('[^a-z]', line[j]):\n",
    "            if w == word:\n",
    "                matrix[j][i] += 1\n",
    "        i += 1\n",
    "\n",
    "r_array = [scipy.spatial.distance.cosine(matrix[0], matrix[l]) for l in range(0, len(line))]\n",
    "s_array = sorted(r_array)\n",
    "\n",
    "print (r_array.index(s_array[1]), s_array[1])\n",
    "print (r_array.index(s_array[2]), s_array[2])"
   ]
  },
  {
   "cell_type": "markdown",
   "metadata": {},
   "source": [
    "f(x) = sin(x / 5) * exp(x / 10) + 5 * exp(-x / 2)\n",
    "\n",
    "Сформируйте систему линейных уравнений (то есть задайте матрицу коэффициентов A и свободный вектор b) для многочлена первой степени, который должен совпадать с функцией f в точках 1 и 15. Решите данную систему с помощью функции scipy.linalg.solve. Нарисуйте функцию f и полученный многочлен. Хорошо ли он приближает исходную функцию?\n",
    "\n",
    "Повторите те же шаги для многочлена второй степени, который совпадает с функцией f в точках 1, 8 и 15. Улучшилось ли качество аппроксимации?\n",
    "\n",
    "Повторите те же шаги для многочлена третьей степени, который совпадает с функцией f в точках 1, 4, 10 и 15. Хорошо ли он аппроксимирует функцию? Коэффициенты данного многочлена (четыре числа в следующем порядке: w_0, w_1, w_2, w_3) являются ответом на задачу. Округлять коэффициенты не обязательно, но при желании можете произвести округление до второго знака (т.е. до числа вида 0.42)\n",
    "\n",
    "Запишите полученные числа в файл, разделив пробелами. Обратите внимание, что файл должен состоять из одной строки, в конце которой не должно быть переноса. Пример файла с решением вы можете найти в конце задания (submission-2.txt).\n"
   ]
  },
  {
   "cell_type": "code",
   "execution_count": 27,
   "metadata": {},
   "outputs": [
    {
     "name": "stdout",
     "output_type": "stream",
     "text": [
      "[ 3.43914511 -0.18692825]\n",
      "[ 3.32512949 -0.06531159 -0.00760104]\n",
      "[ 4.36264154 -1.29552587  0.19333685 -0.00823565]\n"
     ]
    }
   ],
   "source": [
    "import math\n",
    "import scipy\n",
    "import numpy as np\n",
    "from scipy import linalg\n",
    "\n",
    "def f(x):\n",
    "    return math.sin(x / 5) * math.exp(x / 10) + 5 * math.exp(-x / 2)\n",
    "\n",
    "def a_matrix(xs):\n",
    "    matrix = [[x**n for n in range(len(xs))] for x in xs]\n",
    "    return matrix\n",
    " \n",
    "def b_matrix(xs, f):\n",
    "    matrix = [f(x) for x in xs]\n",
    "    return matrix\n",
    " \n",
    "points = [(1, 15), (1, 8, 15), (1, 4, 10, 15)]\n",
    "\n",
    "for x in points:\n",
    "    a = a_matrix(x)\n",
    "    b = b_matrix(x, f)\n",
    "    solve = scipy.linalg.solve(a, b)\n",
    "    print(solve)"
   ]
  }
 ],
 "metadata": {
  "kernelspec": {
   "display_name": "Python 3",
   "language": "python",
   "name": "python3"
  },
  "language_info": {
   "codemirror_mode": {
    "name": "ipython",
    "version": 3
   },
   "file_extension": ".py",
   "mimetype": "text/x-python",
   "name": "python",
   "nbconvert_exporter": "python",
   "pygments_lexer": "ipython3",
   "version": "3.7.6"
  }
 },
 "nbformat": 4,
 "nbformat_minor": 4
}
